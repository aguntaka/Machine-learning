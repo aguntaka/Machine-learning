{
  "nbformat": 4,
  "nbformat_minor": 0,
  "metadata": {
    "colab": {
      "name": "FeatX-OSELM comb",
      "provenance": [],
      "collapsed_sections": [
        "Wl1JpWMXC1Nr",
        "gVTUzKf232LO",
        "mlCW8jxCBwdO",
        "fu3o_LTHbMQ1",
        "-XB-LpsBUq2H",
        "BByAxe7_uOTb"
      ]
    },
    "kernelspec": {
      "name": "python3",
      "display_name": "Python 3"
    },
    "accelerator": "GPU"
  },
  "cells": [
    {
      "cell_type": "markdown",
      "metadata": {
        "id": "LLjrHVQARPU6",
        "colab_type": "text"
      },
      "source": [
        "# imports"
      ]
    },
    {
      "cell_type": "code",
      "metadata": {
        "id": "y3sYTTanvuP1",
        "colab_type": "code",
        "colab": {}
      },
      "source": [
        "import numpy as np\n",
        "import scipy.io\n",
        "import pandas as pd\n",
        "from random import randint\n",
        "from time import time\n",
        "sin=np.sin\n",
        "from sklearn.metrics import mean_squared_error\n",
        "from sklearn.preprocessing import MinMaxScaler\n",
        "asin=np.arcsin\n",
        "from numpy.linalg import inv\n",
        "from sklearn.metrics import mean_squared_error\n",
        "from sklearn.model_selection import train_test_split\n",
        "global c_i\n",
        "import sys\n",
        "c_i=2**8"
      ],
      "execution_count": 0,
      "outputs": []
    },
    {
      "cell_type": "code",
      "metadata": {
        "id": "fK8j9IOxww1b",
        "colab_type": "code",
        "outputId": "f039b449-5ba7-4e61-833f-e8f2e04bdc27",
        "colab": {
          "base_uri": "https://localhost:8080/",
          "height": 54
        }
      },
      "source": [
        "from google.colab import drive\n",
        "drive.mount('/content/drive')"
      ],
      "execution_count": 0,
      "outputs": [
        {
          "output_type": "stream",
          "text": [
            "Drive already mounted at /content/drive; to attempt to forcibly remount, call drive.mount(\"/content/drive\", force_remount=True).\n"
          ],
          "name": "stdout"
        }
      ]
    },
    {
      "cell_type": "markdown",
      "metadata": {
        "id": "Wl1JpWMXC1Nr",
        "colab_type": "text"
      },
      "source": [
        "#Custom function"
      ]
    },
    {
      "cell_type": "code",
      "metadata": {
        "id": "zFkDHDsaC4CF",
        "colab_type": "code",
        "colab": {}
      },
      "source": [
        "def randperm(n):\n",
        "    r_perm=[]\n",
        "    while len(r_perm)!=n:\n",
        "        k=randint(1,n)\n",
        "        if k not in r_perm:\n",
        "            r_perm.append(k)\n",
        "        else:\n",
        "            pass\n",
        "    return r_perm"
      ],
      "execution_count": 0,
      "outputs": []
    },
    {
      "cell_type": "code",
      "metadata": {
        "id": "ngZzCwQFDghl",
        "colab_type": "code",
        "colab": {}
      },
      "source": [
        "def noofclass(fea,label=True):\n",
        "    n_class=0\n",
        "    labels=[]\n",
        "    for i in range(fea[0].shape[0]):\n",
        "        labels.append(fea[0][i])\n",
        "        if fea[0][i]>n_class:\n",
        "            n_class=fea[0][i]\n",
        "        else:\n",
        "            n_class=n_class\n",
        "    if label==False:\n",
        "        return int(n_class+1)\n",
        "    else:\n",
        "        labels=np.matrix(labels)\n",
        "        return labels.transpose()"
      ],
      "execution_count": 0,
      "outputs": []
    },
    {
      "cell_type": "code",
      "metadata": {
        "id": "kmyQzBAyWEFt",
        "colab_type": "code",
        "colab": {}
      },
      "source": [
        "def linear_kernal(a,b):\n",
        "  return np.matmul(a,b.transpose())"
      ],
      "execution_count": 0,
      "outputs": []
    },
    {
      "cell_type": "code",
      "metadata": {
        "id": "z_GDJwf165lA",
        "colab_type": "code",
        "colab": {}
      },
      "source": [
        "def normalize(a,b):\n",
        "  temp=a+b\n",
        "  min=np.min(temp)\n",
        "  max=np.max(temp)\n",
        "  #print(min,max)\n",
        "  u=2*((temp-min)/(max-min))\n",
        "  u=u-1\n",
        "  return u "
      ],
      "execution_count": 0,
      "outputs": []
    },
    {
      "cell_type": "code",
      "metadata": {
        "id": "mnKy1NNEW7WG",
        "colab_type": "code",
        "colab": {}
      },
      "source": [
        "def sigmoid_inv(a):\n",
        "  temp=1/a\n",
        "  temp=temp-1\n",
        "  temp=np.log(temp)\n",
        "  temp=-temp\n",
        "  return temp"
      ],
      "execution_count": 0,
      "outputs": []
    },
    {
      "cell_type": "code",
      "metadata": {
        "id": "X6wktKGcrSX4",
        "colab_type": "code",
        "colab": {}
      },
      "source": [
        "import math\n",
        "\n",
        "def sigmoid(x):\n",
        "  return 1 / (1 + np.exp(-x))"
      ],
      "execution_count": 0,
      "outputs": []
    },
    {
      "cell_type": "code",
      "metadata": {
        "id": "QlcPLsCqcaTS",
        "colab_type": "code",
        "colab": {}
      },
      "source": [
        "def normalize_inv(a):\n",
        "  return (np.max(a)-a)/(np.max(a)-np.min(a))\n"
      ],
      "execution_count": 0,
      "outputs": []
    },
    {
      "cell_type": "markdown",
      "metadata": {
        "id": "gVTUzKf232LO",
        "colab_type": "text"
      },
      "source": [
        "# Morres-pseudo inverse"
      ]
    },
    {
      "cell_type": "code",
      "metadata": {
        "id": "99xlc6yS6srC",
        "colab_type": "code",
        "colab": {}
      },
      "source": [
        "def relu(features):\n",
        "  return np.maximum(0,features)\n",
        "def sigmoid(features):\n",
        "  return 1.0 / (1.0 + np.exp(-features))\n",
        "def linear(features,weights,bias):\n",
        "   return np.dot(features, np.transpose(weights)) + bias"
      ],
      "execution_count": 0,
      "outputs": []
    },
    {
      "cell_type": "code",
      "metadata": {
        "id": "AGMvzguk4Xuq",
        "colab_type": "code",
        "colab": {}
      },
      "source": [
        "### function for morres-pseudo inverse \n",
        "### Input: features, target, weights, bias\n",
        "### Output: Morres-matrix, Beta (output weights)\n",
        "def pseudoinverse(features, targets,weights,bias,forgettingFactor=0.999):\n",
        "    (numSamples, numOutputs) = targets.shape\n",
        "    assert features.shape[0] == targets.shape[0]\n",
        "\n",
        "    H = linear(features,weights,bias)\n",
        "\n",
        "    H = sigmoid(H)\n",
        "    \n",
        "    Ht = np.transpose(H)\n",
        "\n",
        "\n",
        "    M = (1/forgettingFactor) * M - np.dot((1/forgettingFactor) * M,\n",
        "                                     np.dot(Ht, np.dot(\n",
        "                                       pinv(np.eye(numSamples) + np.dot(H, np.dot((1/forgettingFactor) * M, Ht))),\n",
        "                                       np.dot(H, (1/forgettingFactor) * M))))\n",
        "    beta = beta + np.dot(M, np.dot(Ht, targets - np.dot(H,beta)))\n",
        "\n",
        "    return (M,beta)\n"
      ],
      "execution_count": 0,
      "outputs": []
    },
    {
      "cell_type": "markdown",
      "metadata": {
        "id": "mlCW8jxCBwdO",
        "colab_type": "text"
      },
      "source": [
        "#sample_g\n"
      ]
    },
    {
      "cell_type": "code",
      "metadata": {
        "id": "jl_51itLBzup",
        "colab_type": "code",
        "colab": {}
      },
      "source": [
        "def sample_g(fea):\n",
        "    nclass=noofclass(fea,False)\n",
        "    train_per_image=100;\n",
        "    fdatabase_label=noofclass(fea,True)\n",
        "    tr_idx=[]\n",
        "    ts_idx=[]\n",
        "    tr_list=[]\n",
        "    ts_list=[]\n",
        "    idx_label=0\n",
        "    for i in range(nclass):\n",
        "        idx_label=[]\n",
        "        for j in range(len(fdatabase_label)):\n",
        "            a=int(fdatabase_label[j])\n",
        "            if a==i:\n",
        "                idx_label.append(j)\n",
        "        num=len(idx_label)\n",
        "        idx_rand=randperm(num-1)\n",
        "        tr_num =train_per_image\n",
        "        for k in range(tr_num):\n",
        "            temp=idx_label[idx_rand[k]]\n",
        "            tr_list.append(temp)\n",
        "        for l in range(tr_num-1,num-1):\n",
        "            temp=idx_label[idx_rand[l]]\n",
        "            ts_list.append(temp)\n",
        "        \n",
        "    return np.array(tr_list),np.array(ts_list)"
      ],
      "execution_count": 0,
      "outputs": []
    },
    {
      "cell_type": "markdown",
      "metadata": {
        "id": "FliEB3qgJ5UQ",
        "colab_type": "text"
      },
      "source": [
        "#First General Layer - \n",
        "  Subspace Feature Extraction"
      ]
    },
    {
      "cell_type": "code",
      "metadata": {
        "id": "sqN759KOJ4rE",
        "colab_type": "code",
        "colab": {}
      },
      "source": [
        "def step1(training,testing):\n",
        "  X=training\n",
        "  y=testing\n",
        "  X_train, X_test, y_train, y_test = train_test_split(X, y, test_size=0.30, random_state=42)\n",
        "  print('traindata : ',X_train.shape,'testdata : ',X_test.shape,'train_label : ',y_train.shape,'test_label : ',y_test.shape)\n",
        "  return X_train, X_test, y_train, y_test"
      ],
      "execution_count": 0,
      "outputs": []
    },
    {
      "cell_type": "code",
      "metadata": {
        "id": "EG1LRa2e575f",
        "colab_type": "code",
        "colab": {}
      },
      "source": [
        "#weights and bias generation on random\n",
        "#for the first layer\n",
        "\n",
        "def step2(data_set):  \n",
        "  #print(\"=============================================\")\n",
        "  #print(\"Step 2 \")\n",
        "  #print(\"=============================================\")\n",
        "  dim=data_set.shape\n",
        "  weights=np.random.randn(1,dim[0])*2-1\n",
        "  bias=np.random.randn(1,1)\n",
        "  H=np.dot(weights,data_set)+bias\n",
        "  #print('weights : ',weights.shape,'data : ',data_set.shape,'bias : ',bias.shape,'H size : ',H.shape)\n",
        "  return H"
      ],
      "execution_count": 0,
      "outputs": []
    },
    {
      "cell_type": "code",
      "metadata": {
        "id": "gJmf8wLK8b3i",
        "colab_type": "code",
        "colab": {}
      },
      "source": [
        "def step3(subspacefeature,labels):\n",
        "  #print(\"=============================================\")\n",
        "  #print(\"Step 3\")\n",
        "  #print(\"=============================================\")\n",
        "  temp=inv(c_i+np.dot(subspacefeature,subspacefeature.transpose()))\n",
        "  #print(\"Labels shape : \",labels.shape,\"temp shape : \",temp.shape)\n",
        "  temp=np.dot(subspacefeature.transpose(),temp)\n",
        "  #print('temp transpose shape : ',temp.transpose().shape)\n",
        "  y=labels\n",
        "  ind = np.ones((1,subspacefeature.shape[1]))\n",
        "  y=np.matrix(y).transpose()\n",
        "  y=y*ind\n",
        "  weights=np.dot(y,temp)\n",
        "  #print('Weights shape',weights.shape)\n",
        "  temp=np.dot(weights,subspacefeature)\n",
        "  \n",
        "  #print('Temp shape : ',temp.shape,'y shape : ',y.shape)\n",
        "  bias=mean_squared_error(temp,y)\n",
        "  bias=np.sqrt(bias)\n",
        "  return weights,bias"
      ],
      "execution_count": 0,
      "outputs": []
    },
    {
      "cell_type": "code",
      "metadata": {
        "id": "61yKCqzSDFE8",
        "colab_type": "code",
        "colab": {}
      },
      "source": [
        "def step4(weights,bias,subspacefeature,labels):\n",
        "  #print(\"=============================================\")\n",
        "  #print(\"Step 4 \")\n",
        "  #print(\"=============================================\")\n",
        "  ind = np.ones((1,subspacefeature.shape[1]))\n",
        "  y=labels\n",
        "  y=np.matrix(y).transpose()\n",
        "  y=y*ind\n",
        "  #print(\"y shape : \", y.shape)\n",
        "  e=y-(np.dot(weights,subspacefeature)+bias)\n",
        "  print(\"e shape : \", e.shape)\n",
        "  return e"
      ],
      "execution_count": 0,
      "outputs": []
    },
    {
      "cell_type": "code",
      "metadata": {
        "id": "jcaQphX0DpQI",
        "colab_type": "code",
        "colab": {}
      },
      "source": [
        "def step5(error,weights,subspacefeature):#step 5  &6\n",
        "  #c_i=np.random.randint(1,10)\n",
        "  print(\"=============================================\")\n",
        "  print(\"Step 5\")\n",
        "  print(\"=============================================\")\n",
        "  temp=c_i+np.dot(weights,weights.transpose())\n",
        "  print(\"Weights\",weights.shape)\n",
        "  print(\"temp shape : \",temp.shape)\n",
        "  temp=np.linalg.pinv(temp)\n",
        "  print(\"temp shape : \",temp.shape)\n",
        "  temp=np.dot(weights.transpose(),temp.transpose())\n",
        "  print(\"temp shape : \",temp.shape)\n",
        "  p=error*temp\n",
        "  print('P shape : ',p.shape)\n",
        "  p=normalize(p,subspacefeature)\n",
        "  print('P normalized shape : ',p.shape)\n",
        "  print(\"=============================================\")\n",
        "  return p"
      ],
      "execution_count": 0,
      "outputs": []
    },
    {
      "cell_type": "code",
      "metadata": {
        "id": "OUOTltJfEW42",
        "colab_type": "code",
        "colab": {}
      },
      "source": [
        "### APPLY BOOSTING PHASE HERE\n",
        "def step7(weight_fl,bias_fl,input_data,normalized_error):\n",
        "  #c_i=np.random.randint(1,10)\n",
        "  a=weight_fl\n",
        "  b=bias_fl\n",
        "  x=input_data\n",
        "  p=normalized_error\n",
        "  temp=np.ones(shape=(p.shape[1],x.shape[0]))\n",
        "  p_temp=p\n",
        "  print(\"p_temp : \",p_temp.shape)\n",
        "  p=p*temp\n",
        "  #print(p.shape)\n",
        "  a_temp=(p*np.dot(x.transpose(),np.linalg.pinv(c_i+np.dot(x,x.transpose()))).transpose())\n",
        "  a_f=a+0.5*(a_temp-a)\n",
        "  print('a_temp shape : ',a_temp.shape)\n",
        "  temp=np.array(a_f)*x\n",
        "  print(\"temp : \",temp.shape)\n",
        "  #print(p.shape)\n",
        "  b_f=np.sqrt(mean_squared_error(temp,p_temp))\n",
        "  #print(type(a_f),type(x),type(p))\n",
        "  h_f=np.array(a_f)*x+b_f\n",
        "  return h_f,a_f,b_f"
      ],
      "execution_count": 0,
      "outputs": []
    },
    {
      "cell_type": "markdown",
      "metadata": {
        "id": "fu3o_LTHbMQ1",
        "colab_type": "text"
      },
      "source": [
        "#Second Generel Layer -\n",
        "  Subspace features combination"
      ]
    },
    {
      "cell_type": "code",
      "metadata": {
        "id": "PF_kva9BRKor",
        "colab_type": "code",
        "colab": {}
      },
      "source": [
        "#def fea_comb(subnetwork_nodes,data_channels):\n",
        "def fea_comb(feature_array,subnetowk_nodes,data_channels):\n",
        "  for i in range(1,data_channels+1):\n",
        "    for j in range(1,subnetwork_nodes):\n",
        "      #temp=\"ch%s_fea_%s\"%(i,j)\n",
        "      temp=feature_array\n",
        "      if i==1 and j==1:\n",
        "        #h=np.loadtxt(temp)\n",
        "        h=temp\n",
        "      else:\n",
        "        prev_h=h\n",
        "        #h=np.loadtxt(temp)\n",
        "        h=feature_array\n",
        "        final_h=linear_kernal(h.transpose(),prev_h.transpose())\n",
        "  return final_h"
      ],
      "execution_count": 0,
      "outputs": []
    },
    {
      "cell_type": "markdown",
      "metadata": {
        "id": "-XB-LpsBUq2H",
        "colab_type": "text"
      },
      "source": [
        "# Third General Layer - \n",
        "  Classifier with Subnetowrk Nodes"
      ]
    },
    {
      "cell_type": "code",
      "metadata": {
        "id": "3o1az7DEU3_B",
        "colab_type": "code",
        "colab": {}
      },
      "source": [
        "def last_layer(final_features,test_labels):\n",
        "  c2=2**12\n",
        "  C=3\n",
        "  N=10\n",
        "  #step 1\n",
        "  h=final_features\n",
        "  for c in range(C):\n",
        "    if c==0:\n",
        "      prev_e=test_labels\n",
        "    else:\n",
        "      weights=c2+np.dot(h,h.transpose())\n",
        "      print(prev_e.shape)\n",
        "      temp=np.ones(prev_e.shape)\n",
        "      print(temp.shape)\n",
        "      \n",
        "      temp=prev_e+temp\n",
        "      print(temp.shape)\n",
        "      \n",
        "      temp=sigmoid_inv(temp)\n",
        "      print(temp.shape)\n",
        "      temp=np.dot(temp,np.dot(h.transpose(),np.linalg.pinv(weights)))\n",
        "      #weights=sigmoid_inv(prev_e+np.ones(prev_e.shape))*np.dot(h.transpose(),np.linalg.pinv(weights))\n",
        "      bias=np.sum(np.matmul(weights.transpose(),h.transpose())-(sigmoid_inv(prev_e))   )   \n",
        "      bias=bias/N\n",
        "      g=normalize_inv(sigmoid(weights*h.transpose()+bias))\n",
        "      in_pro=np.inner(prev_e,g.transpose()).transpose()\n",
        "      near_int=np.around(g)**2\n",
        "      output_weights=in_pro/near_int\n",
        "      e_c=prev_e-np.dot(output_weights,sigmoid(weights*ouput_weights+bias))\n",
        "  return e_c\n",
        "  #step 2"
      ],
      "execution_count": 0,
      "outputs": []
    },
    {
      "cell_type": "markdown",
      "metadata": {
        "id": "kEyuN2mNn16f",
        "colab_type": "text"
      },
      "source": [
        "⟨,⟩ - inner product\n",
        "|| || - nearest integer"
      ]
    },
    {
      "cell_type": "markdown",
      "metadata": {
        "id": "Uuyjdv2cwswN",
        "colab_type": "text"
      },
      "source": [
        "#main"
      ]
    },
    {
      "cell_type": "code",
      "metadata": {
        "id": "iPNynzA9wrq0",
        "colab_type": "code",
        "outputId": "2be2d4b4-d341-4fd9-bf8c-d3d336a730aa",
        "colab": {
          "base_uri": "https://localhost:8080/",
          "height": 102
        }
      },
      "source": [
        "mat = scipy.io.loadmat('/content/drive/My Drive/spatialpyramidfeatures4scene15.mat')\n",
        "featureMat=mat['featureMat']\n",
        "labelMat=mat['labelMat']\n",
        "labelMat=np.argwhere(labelMat==1)\n",
        "temp=[]\n",
        "b=[]\n",
        "for i in range(len(labelMat)):\n",
        "  value=labelMat[i][0]\n",
        "  b.append(labelMat[i][1])\n",
        "  temp.append(value)\n",
        "featureMat=featureMat.transpose()\n",
        "labelMat=np.array(temp)\n",
        "fea=np.column_stack([labelMat,featureMat])\n",
        "fea=fea.transpose()\n",
        "print(\"label Shape: \",labelMat.shape,'\\nfeature Shape: ',featureMat.shape)\n",
        "print('fea Shape: ',fea.shape)\n",
        "train_idx,test_idx=sample_g(fea)\n",
        "tr_fea=fea[: , train_idx].transpose()\n",
        "ts_fea=fea[:,  test_idx].transpose()\n",
        "print('train fea: ',tr_fea.shape,'test fea: ',ts_fea.shape)\n",
        "train_data=tr_fea\n",
        "test_data=ts_fea\n",
        "train_labels=labelMat[train_idx]\n",
        "test_labels=labelMat[test_idx]\n",
        "print('train labels: ',train_labels.shape,'test_labels: ',test_labels.shape)\n"
      ],
      "execution_count": 0,
      "outputs": [
        {
          "output_type": "stream",
          "text": [
            "label Shape:  (4485,) \n",
            "feature Shape:  (4485, 3000)\n",
            "fea Shape:  (3001, 4485)\n",
            "train fea:  (1500, 3001) test fea:  (2985, 3001)\n",
            "train labels:  (1500,) test_labels:  (2985,)\n"
          ],
          "name": "stdout"
        }
      ]
    },
    {
      "cell_type": "markdown",
      "metadata": {
        "id": "1nvvYxQsDYob",
        "colab_type": "text"
      },
      "source": [
        " matrix shape - (rows,columns)\n",
        " \n",
        "\n"
      ]
    },
    {
      "cell_type": "code",
      "metadata": {
        "id": "TmLHBPOpANGo",
        "colab_type": "code",
        "outputId": "e42037eb-65cc-4b87-fa82-90213f8136dc",
        "colab": {
          "base_uri": "https://localhost:8080/",
          "height": 564
        }
      },
      "source": [
        "train_inputs,test_inputs,train_labels,test_labels=tr_fea,ts_fea,train_labels,test_labels #step1\n",
        "perc = 10\n",
        "data_channels=10\n",
        "subnetwork_nodes=3\n",
        "##First layer call\n",
        "for i in range(1,data_channels+1):\n",
        "  for j in range(1,subnetwork_nodes+1):\n",
        "      start_time=time()\n",
        "      sub=step2(train_inputs) #step2\n",
        "      w,b=step3(sub,train_labels) #step3\n",
        "      error=step4(w,b,sub,train_labels) #step 4\n",
        "      norm_err=step5(error,w,sub) #step 5 and 6\n",
        "      h_f,a_f,b_f=step7(w,b,train_inputs,norm_err) #step7\n",
        "      ###\n",
        "      ### AFTER BOOSTING PHASE IS DONE FOR THE FIRST TIME \n",
        "      ### SAVE THE WEIGHTS IN A FILE \n",
        "      ###\n",
        "      ### AFTER THE FIRST BLOCK OF DATA IS SENT THROUGH WE WILL USE THE PREVIOUSLY \n",
        "      ### SAVED WEIGHTS FILE AND ADD ON TO IT AND SAVE IT\n",
        "      ###\n",
        "      ### THAT COMPLETES THE SEQUENTIAL LEARNING PHASE\n",
        "      ###\n",
        "      end_time=time()\n",
        "      h=fea_comb(h_f,subnetwork_nodes,data_channels)\n",
        "  sys.stdout.write(\" \\r Execution Progress %: \"+str(perc*i))\n",
        "train_time=end_time-start_time\n",
        "\n",
        "print('\\n train time : ',train_time)"
      ],
      "execution_count": 0,
      "outputs": [
        {
          "output_type": "stream",
          "text": [
            "e shape :  (1500, 3001)\n",
            "=============================================\n",
            "Step 5\n",
            "=============================================\n",
            "Weights (1500, 1)\n",
            "temp shape :  (1500, 1500)\n",
            "temp shape :  (1500, 1500)\n",
            "temp shape :  (1, 1500)\n"
          ],
          "name": "stdout"
        },
        {
          "output_type": "error",
          "ename": "ValueError",
          "evalue": "ignored",
          "traceback": [
            "\u001b[0;31m---------------------------------------------------------------------------\u001b[0m",
            "\u001b[0;31mValueError\u001b[0m                                Traceback (most recent call last)",
            "\u001b[0;32m<ipython-input-71-adf160eef434>\u001b[0m in \u001b[0;36m<module>\u001b[0;34m()\u001b[0m\n\u001b[1;32m     10\u001b[0m       \u001b[0mw\u001b[0m\u001b[0;34m,\u001b[0m\u001b[0mb\u001b[0m\u001b[0;34m=\u001b[0m\u001b[0mstep3\u001b[0m\u001b[0;34m(\u001b[0m\u001b[0msub\u001b[0m\u001b[0;34m,\u001b[0m\u001b[0mtrain_labels\u001b[0m\u001b[0;34m)\u001b[0m \u001b[0;31m#step3\u001b[0m\u001b[0;34m\u001b[0m\u001b[0;34m\u001b[0m\u001b[0m\n\u001b[1;32m     11\u001b[0m       \u001b[0merror\u001b[0m\u001b[0;34m=\u001b[0m\u001b[0mstep4\u001b[0m\u001b[0;34m(\u001b[0m\u001b[0mw\u001b[0m\u001b[0;34m,\u001b[0m\u001b[0mb\u001b[0m\u001b[0;34m,\u001b[0m\u001b[0msub\u001b[0m\u001b[0;34m,\u001b[0m\u001b[0mtrain_labels\u001b[0m\u001b[0;34m)\u001b[0m \u001b[0;31m#step 4\u001b[0m\u001b[0;34m\u001b[0m\u001b[0;34m\u001b[0m\u001b[0m\n\u001b[0;32m---> 12\u001b[0;31m       \u001b[0mnorm_err\u001b[0m\u001b[0;34m=\u001b[0m\u001b[0mstep5\u001b[0m\u001b[0;34m(\u001b[0m\u001b[0merror\u001b[0m\u001b[0;34m,\u001b[0m\u001b[0mw\u001b[0m\u001b[0;34m,\u001b[0m\u001b[0msub\u001b[0m\u001b[0;34m)\u001b[0m \u001b[0;31m#step 5 and 6\u001b[0m\u001b[0;34m\u001b[0m\u001b[0;34m\u001b[0m\u001b[0m\n\u001b[0m\u001b[1;32m     13\u001b[0m       \u001b[0mh_f\u001b[0m\u001b[0;34m,\u001b[0m\u001b[0ma_f\u001b[0m\u001b[0;34m,\u001b[0m\u001b[0mb_f\u001b[0m\u001b[0;34m=\u001b[0m\u001b[0mstep7\u001b[0m\u001b[0;34m(\u001b[0m\u001b[0mw\u001b[0m\u001b[0;34m,\u001b[0m\u001b[0mb\u001b[0m\u001b[0;34m,\u001b[0m\u001b[0mtrain_inputs\u001b[0m\u001b[0;34m,\u001b[0m\u001b[0mnorm_err\u001b[0m\u001b[0;34m)\u001b[0m \u001b[0;31m#step7\u001b[0m\u001b[0;34m\u001b[0m\u001b[0;34m\u001b[0m\u001b[0m\n\u001b[1;32m     14\u001b[0m       \u001b[0;31m###\u001b[0m\u001b[0;34m\u001b[0m\u001b[0;34m\u001b[0m\u001b[0;34m\u001b[0m\u001b[0m\n",
            "\u001b[0;32m<ipython-input-66-bac52c3da9a7>\u001b[0m in \u001b[0;36mstep5\u001b[0;34m(error, weights, subspacefeature)\u001b[0m\n\u001b[1;32m     11\u001b[0m   \u001b[0mtemp\u001b[0m\u001b[0;34m=\u001b[0m\u001b[0mnp\u001b[0m\u001b[0;34m.\u001b[0m\u001b[0mdot\u001b[0m\u001b[0;34m(\u001b[0m\u001b[0mweights\u001b[0m\u001b[0;34m.\u001b[0m\u001b[0mtranspose\u001b[0m\u001b[0;34m(\u001b[0m\u001b[0;34m)\u001b[0m\u001b[0;34m,\u001b[0m\u001b[0mtemp\u001b[0m\u001b[0;34m.\u001b[0m\u001b[0mtranspose\u001b[0m\u001b[0;34m(\u001b[0m\u001b[0;34m)\u001b[0m\u001b[0;34m)\u001b[0m\u001b[0;34m\u001b[0m\u001b[0;34m\u001b[0m\u001b[0m\n\u001b[1;32m     12\u001b[0m   \u001b[0mprint\u001b[0m\u001b[0;34m(\u001b[0m\u001b[0;34m\"temp shape : \"\u001b[0m\u001b[0;34m,\u001b[0m\u001b[0mtemp\u001b[0m\u001b[0;34m.\u001b[0m\u001b[0mshape\u001b[0m\u001b[0;34m)\u001b[0m\u001b[0;34m\u001b[0m\u001b[0;34m\u001b[0m\u001b[0m\n\u001b[0;32m---> 13\u001b[0;31m   \u001b[0mp\u001b[0m\u001b[0;34m=\u001b[0m\u001b[0merror\u001b[0m\u001b[0;34m*\u001b[0m\u001b[0mtemp\u001b[0m\u001b[0;34m\u001b[0m\u001b[0;34m\u001b[0m\u001b[0m\n\u001b[0m\u001b[1;32m     14\u001b[0m   \u001b[0mprint\u001b[0m\u001b[0;34m(\u001b[0m\u001b[0;34m'P shape : '\u001b[0m\u001b[0;34m,\u001b[0m\u001b[0mp\u001b[0m\u001b[0;34m.\u001b[0m\u001b[0mshape\u001b[0m\u001b[0;34m)\u001b[0m\u001b[0;34m\u001b[0m\u001b[0;34m\u001b[0m\u001b[0m\n\u001b[1;32m     15\u001b[0m   \u001b[0mp\u001b[0m\u001b[0;34m=\u001b[0m\u001b[0mnormalize\u001b[0m\u001b[0;34m(\u001b[0m\u001b[0mp\u001b[0m\u001b[0;34m,\u001b[0m\u001b[0msubspacefeature\u001b[0m\u001b[0;34m)\u001b[0m\u001b[0;34m\u001b[0m\u001b[0;34m\u001b[0m\u001b[0m\n",
            "\u001b[0;32m/usr/local/lib/python3.6/dist-packages/numpy/matrixlib/defmatrix.py\u001b[0m in \u001b[0;36m__mul__\u001b[0;34m(self, other)\u001b[0m\n\u001b[1;32m    218\u001b[0m         \u001b[0;32mif\u001b[0m \u001b[0misinstance\u001b[0m\u001b[0;34m(\u001b[0m\u001b[0mother\u001b[0m\u001b[0;34m,\u001b[0m \u001b[0;34m(\u001b[0m\u001b[0mN\u001b[0m\u001b[0;34m.\u001b[0m\u001b[0mndarray\u001b[0m\u001b[0;34m,\u001b[0m \u001b[0mlist\u001b[0m\u001b[0;34m,\u001b[0m \u001b[0mtuple\u001b[0m\u001b[0;34m)\u001b[0m\u001b[0;34m)\u001b[0m \u001b[0;34m:\u001b[0m\u001b[0;34m\u001b[0m\u001b[0;34m\u001b[0m\u001b[0m\n\u001b[1;32m    219\u001b[0m             \u001b[0;31m# This promotes 1-D vectors to row vectors\u001b[0m\u001b[0;34m\u001b[0m\u001b[0;34m\u001b[0m\u001b[0;34m\u001b[0m\u001b[0m\n\u001b[0;32m--> 220\u001b[0;31m             \u001b[0;32mreturn\u001b[0m \u001b[0mN\u001b[0m\u001b[0;34m.\u001b[0m\u001b[0mdot\u001b[0m\u001b[0;34m(\u001b[0m\u001b[0mself\u001b[0m\u001b[0;34m,\u001b[0m \u001b[0masmatrix\u001b[0m\u001b[0;34m(\u001b[0m\u001b[0mother\u001b[0m\u001b[0;34m)\u001b[0m\u001b[0;34m)\u001b[0m\u001b[0;34m\u001b[0m\u001b[0;34m\u001b[0m\u001b[0m\n\u001b[0m\u001b[1;32m    221\u001b[0m         \u001b[0;32mif\u001b[0m \u001b[0misscalar\u001b[0m\u001b[0;34m(\u001b[0m\u001b[0mother\u001b[0m\u001b[0;34m)\u001b[0m \u001b[0;32mor\u001b[0m \u001b[0;32mnot\u001b[0m \u001b[0mhasattr\u001b[0m\u001b[0;34m(\u001b[0m\u001b[0mother\u001b[0m\u001b[0;34m,\u001b[0m \u001b[0;34m'__rmul__'\u001b[0m\u001b[0;34m)\u001b[0m \u001b[0;34m:\u001b[0m\u001b[0;34m\u001b[0m\u001b[0;34m\u001b[0m\u001b[0m\n\u001b[1;32m    222\u001b[0m             \u001b[0;32mreturn\u001b[0m \u001b[0mN\u001b[0m\u001b[0;34m.\u001b[0m\u001b[0mdot\u001b[0m\u001b[0;34m(\u001b[0m\u001b[0mself\u001b[0m\u001b[0;34m,\u001b[0m \u001b[0mother\u001b[0m\u001b[0;34m)\u001b[0m\u001b[0;34m\u001b[0m\u001b[0;34m\u001b[0m\u001b[0m\n",
            "\u001b[0;32m<__array_function__ internals>\u001b[0m in \u001b[0;36mdot\u001b[0;34m(*args, **kwargs)\u001b[0m\n",
            "\u001b[0;31mValueError\u001b[0m: shapes (1500,3001) and (1,1500) not aligned: 3001 (dim 1) != 1 (dim 0)"
          ]
        }
      ]
    },
    {
      "cell_type": "markdown",
      "metadata": {
        "id": "BByAxe7_uOTb",
        "colab_type": "text"
      },
      "source": [
        "# Print statement\n"
      ]
    },
    {
      "cell_type": "code",
      "metadata": {
        "id": "PWxXhGzX0jN2",
        "colab_type": "code",
        "outputId": "5a8dd7f1-4152-4d6d-840a-843ae4d855dc",
        "colab": {
          "base_uri": "https://localhost:8080/",
          "height": 1000
        }
      },
      "source": [
        "print(\"------------------------------------------------------------------\")\n",
        "print('***train data*** : ')\n",
        "print(\"------------------------------------------------------------------\")\n",
        "\n",
        "print(train_inputs)\n",
        "print(\"------------------------------------------------------------------\")\n",
        "print('***sub*** : ')\n",
        "print(\"------------------------------------------------------------------\")\n",
        "\n",
        "print(sub)\n",
        "print(\"------------------------------------------------------------------\")\n",
        "print('***error*** : ')\n",
        "print(\"------------------------------------------------------------------\")\n",
        "print(error)\n",
        "print(\"------------------------------------------------------------------\")\n",
        "print('***norm_error*** : ')\n",
        "print(\"------------------------------------------------------------------\")\n",
        "print(norm_err)\n",
        "print(\"------------------------------------------------------------------\")\n",
        "print('**h_f*** : ')\n",
        "print(\"------------------------------------------------------------------\")\n",
        "\n",
        "print(h_f)\n",
        "print(\"------------------------------------------------------------------\")\n",
        "print('***h*** : ')\n",
        "print(\"------------------------------------------------------------------\")\n",
        "\n",
        "print(h)"
      ],
      "execution_count": 0,
      "outputs": [
        {
          "output_type": "stream",
          "text": [
            "------------------------------------------------------------------\n",
            "***train data*** : \n",
            "------------------------------------------------------------------\n",
            "[[ 0.00000000e+00  5.21926242e-04  3.37005045e-04 ...  2.99825487e-04\n",
            "  -2.08596126e-04 -1.60356386e-04]\n",
            " [ 0.00000000e+00  1.70797275e-03  6.55089934e-04 ...  2.24943778e-04\n",
            "   2.19978503e-04  4.89311521e-05]\n",
            " [ 0.00000000e+00  2.16898046e-03  1.51870623e-03 ...  1.66591949e-06\n",
            "   4.05146932e-04  1.18133535e-05]\n",
            " ...\n",
            " [ 1.40000000e+01  7.40925288e-04 -1.05529082e-03 ...  8.82824191e-05\n",
            "  -1.71712852e-04  1.32982618e-05]\n",
            " [ 1.40000000e+01  1.09642149e-03  1.07962750e-03 ... -4.35903605e-04\n",
            "  -4.82511703e-04 -2.23504457e-04]\n",
            " [ 1.40000000e+01 -4.94936107e-04 -8.26639673e-04 ...  1.21061158e-04\n",
            "   1.57174298e-04 -3.61961744e-04]]\n",
            "------------------------------------------------------------------\n",
            "***sub*** : \n",
            "------------------------------------------------------------------\n",
            "[[-1.01799381e+04 -6.43343489e-01 -1.50205752e-01 ... -2.83592051e-01\n",
            "  -2.76093467e-01 -2.13761172e-01]]\n",
            "------------------------------------------------------------------\n",
            "***error*** : \n",
            "------------------------------------------------------------------\n",
            "[[-8.22437261 -8.22437261 -8.22437261 ... -8.22437261 -8.22437261\n",
            "  -8.22437261]\n",
            " [-8.22437261 -8.22437261 -8.22437261 ... -8.22437261 -8.22437261\n",
            "  -8.22437261]\n",
            " [-8.22437261 -8.22437261 -8.22437261 ... -8.22437261 -8.22437261\n",
            "  -8.22437261]\n",
            " ...\n",
            " [-9.36206765  5.77467073  5.77540403 ...  5.77520568  5.77521683\n",
            "   5.77530952]\n",
            " [-9.36206765  5.77467073  5.77540403 ...  5.77520568  5.77521683\n",
            "   5.77530952]\n",
            " [-9.36206765  5.77467073  5.77540403 ...  5.77520568  5.77521683\n",
            "   5.77530952]]\n",
            "------------------------------------------------------------------\n",
            "***norm_error*** : \n",
            "------------------------------------------------------------------\n",
            "[[ 1.          0.67464139  0.67439991 ...  0.67404162  0.67412128\n",
            "   0.67398492]\n",
            " [ 1.          0.67464139  0.67439991 ...  0.67404162  0.67412128\n",
            "   0.67398492]\n",
            " [ 1.          0.67464139  0.67439991 ...  0.67404162  0.67412128\n",
            "   0.67398492]\n",
            " ...\n",
            " [-1.          0.67751262  0.67875774 ...  0.68060452  0.68019433\n",
            "   0.680897  ]\n",
            " [-1.          0.67751262  0.67875774 ...  0.68060452  0.68019433\n",
            "   0.680897  ]\n",
            " [-1.          0.67751262  0.67875774 ...  0.68060452  0.68019433\n",
            "   0.680897  ]]\n",
            "------------------------------------------------------------------\n",
            "**h_f*** : \n",
            "------------------------------------------------------------------\n",
            "[[ 0.67725752  0.67725759  0.67725747 ...  0.67725752  0.67725734\n",
            "   0.67725752]\n",
            " [ 0.67725752  0.67725724  0.67725728 ...  0.6772575   0.67725739\n",
            "   0.67725752]\n",
            " [ 0.67725752  0.67725755  0.6772574  ...  0.67725744  0.67725753\n",
            "   0.67725752]\n",
            " ...\n",
            " [-1.12091941  0.67725758  0.67725743 ...  0.67725749  0.67725752\n",
            "   0.67725751]\n",
            " [-1.12091941  0.67725759  0.67725746 ...  0.67725756  0.67725757\n",
            "   0.67725762]\n",
            " [-1.12091941  0.67725756  0.67725752 ...  0.67725756  0.67725748\n",
            "   0.67725758]]\n",
            "------------------------------------------------------------------\n",
            "***h*** : \n",
            "------------------------------------------------------------------\n",
            "[[501.42541159  57.35889779  57.35892013 ...  57.35887957  57.35887903\n",
            "   57.35887948]\n",
            " [ 57.35889779 688.01665863 688.01669975 ... 688.01664171 688.01664241\n",
            "  688.0166408 ]\n",
            " [ 57.35892013 688.01669975 688.01674086 ... 688.01668283 688.01668353\n",
            "  688.01668191]\n",
            " ...\n",
            " [ 57.35887957 688.01664171 688.01668283 ... 688.0166248  688.01662549\n",
            "  688.01662388]\n",
            " [ 57.35887903 688.01664241 688.01668353 ... 688.01662549 688.01662619\n",
            "  688.01662457]\n",
            " [ 57.35887948 688.0166408  688.01668191 ... 688.01662388 688.01662457\n",
            "  688.01662296]]\n"
          ],
          "name": "stdout"
        }
      ]
    },
    {
      "cell_type": "code",
      "metadata": {
        "id": "cabo-L9_pKv6",
        "colab_type": "code",
        "outputId": "f725c910-be65-49ac-ae97-40dc7336454b",
        "colab": {
          "base_uri": "https://localhost:8080/",
          "height": 476
        }
      },
      "source": [
        "print('weights before updation\\n',w)\n",
        "print('bias before updation \\n',b)\n",
        "print('-----------------------------------------------------------------')\n",
        "print(\"weights after updation \\n\",a_f)\n",
        "print(\"bias after updation \\n\",b_f)"
      ],
      "execution_count": 0,
      "outputs": [
        {
          "output_type": "stream",
          "text": [
            "weights before updation\n",
            " [[ 0.        ]\n",
            " [ 0.        ]\n",
            " [ 0.        ]\n",
            " ...\n",
            " [-0.00148701]\n",
            " [-0.00148701]\n",
            " [-0.00148701]]\n",
            "bias before updation \n",
            " 8.22437261125157\n",
            "-----------------------------------------------------------------\n",
            "weights after updation \n",
            " [[ 1.64615335e-06 -1.28964178e-04 -1.73005983e-04 ... -1.21762970e-04\n",
            "  -2.94710349e-04  1.02612594e-05]\n",
            " [ 1.64615335e-06 -1.28964178e-04 -1.73005983e-04 ... -1.21762970e-04\n",
            "  -2.94710349e-04  1.02612594e-05]\n",
            " [ 1.64615335e-06 -1.28964178e-04 -1.73005983e-04 ... -1.21762970e-04\n",
            "  -2.94710349e-04  1.02612594e-05]\n",
            " ...\n",
            " [-1.28441209e-01  5.43329655e-05  1.05391002e-04 ...  2.98666947e-04\n",
            "   9.28065513e-05  4.54241500e-04]\n",
            " [-1.28441209e-01  5.43329655e-05  1.05391002e-04 ...  2.98666947e-04\n",
            "   9.28065513e-05  4.54241500e-04]\n",
            " [-1.28441209e-01  5.43329655e-05  1.05391002e-04 ...  2.98666947e-04\n",
            "   9.28065513e-05  4.54241500e-04]]\n",
            "bias after updation \n",
            " 0.6772575218171072\n"
          ],
          "name": "stdout"
        }
      ]
    },
    {
      "cell_type": "markdown",
      "metadata": {
        "id": "rzf2_Q3juSpZ",
        "colab_type": "text"
      },
      "source": [
        "# final output"
      ]
    },
    {
      "cell_type": "code",
      "metadata": {
        "id": "WRa__GqGy2mQ",
        "colab_type": "code",
        "colab": {}
      },
      "source": [
        "last_layer(h,train_labels)"
      ],
      "execution_count": 0,
      "outputs": []
    },
    {
      "cell_type": "code",
      "metadata": {
        "id": "UYHY5i61YZtU",
        "colab_type": "code",
        "colab": {}
      },
      "source": [
        ""
      ],
      "execution_count": 0,
      "outputs": []
    }
  ]
}