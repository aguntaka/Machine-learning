{
  "nbformat": 4,
  "nbformat_minor": 0,
  "metadata": {
    "colab": {
      "name": "FeatX-OSELM comb",
      "provenance": [],
      "collapsed_sections": [
        "Wl1JpWMXC1Nr",
        "mlCW8jxCBwdO",
        "fu3o_LTHbMQ1"
      ],
      "include_colab_link": true
    },
    "kernelspec": {
      "name": "python3",
      "display_name": "Python 3"
    },
    "accelerator": "GPU"
  },
  "cells": [
    {
      "cell_type": "markdown",
      "metadata": {
        "id": "view-in-github",
        "colab_type": "text"
      },
      "source": [
        "<a href=\"https://colab.research.google.com/github/aguntaka/NeuralNetworks/blob/master/FeatX_OSELM_comb.ipynb\" target=\"_parent\"><img src=\"https://colab.research.google.com/assets/colab-badge.svg\" alt=\"Open In Colab\"/></a>"
      ]
    },
    {
      "cell_type": "markdown",
      "metadata": {
        "id": "LLjrHVQARPU6",
        "colab_type": "text"
      },
      "source": [
        "# imports"
      ]
    },
    {
      "cell_type": "code",
      "metadata": {
        "id": "y3sYTTanvuP1",
        "colab_type": "code",
        "colab": {}
      },
      "source": [
        "import numpy as np\n",
        "import scipy.io\n",
        "import pandas as pd\n",
        "from random import randint\n",
        "from time import time\n",
        "sin=np.sin\n",
        "from sklearn.metrics import mean_squared_error\n",
        "from sklearn.preprocessing import MinMaxScaler\n",
        "asin=np.arcsin\n",
        "from numpy.linalg import inv\n",
        "from sklearn.metrics import mean_squared_error\n",
        "from sklearn.model_selection import train_test_split\n",
        "global c_i\n",
        "c_i=2**8"
      ],
      "execution_count": 0,
      "outputs": []
    },
    {
      "cell_type": "code",
      "metadata": {
        "id": "fK8j9IOxww1b",
        "colab_type": "code",
        "outputId": "2693c3b7-3ad0-4ddb-9ce5-0a77a4a078b9",
        "colab": {
          "base_uri": "https://localhost:8080/",
          "height": 34
        }
      },
      "source": [
        "from google.colab import drive\n",
        "drive.mount('/content/drive')"
      ],
      "execution_count": 0,
      "outputs": [
        {
          "output_type": "stream",
          "text": [
            "Drive already mounted at /content/drive; to attempt to forcibly remount, call drive.mount(\"/content/drive\", force_remount=True).\n"
          ],
          "name": "stdout"
        }
      ]
    },
    {
      "cell_type": "code",
      "metadata": {
        "id": "lLIZ9dTcOOZ4",
        "colab_type": "code",
        "colab": {}
      },
      "source": [
        "######optional to save all features in a seperate folder\n",
        "import os\n",
        "\n",
        "##### choose ur own folder to save them\n",
        "\n",
        "os.chdir('/content/drive/My Drive/final project /data-channels')"
      ],
      "execution_count": 0,
      "outputs": []
    },
    {
      "cell_type": "markdown",
      "metadata": {
        "id": "Wl1JpWMXC1Nr",
        "colab_type": "text"
      },
      "source": [
        "#Custom function"
      ]
    },
    {
      "cell_type": "code",
      "metadata": {
        "id": "zFkDHDsaC4CF",
        "colab_type": "code",
        "colab": {}
      },
      "source": [
        "def randperm(n):\n",
        "    r_perm=[]\n",
        "    while len(r_perm)!=n:\n",
        "        k=randint(1,n)\n",
        "        if k not in r_perm:\n",
        "            r_perm.append(k)\n",
        "        else:\n",
        "            pass\n",
        "    return r_perm"
      ],
      "execution_count": 0,
      "outputs": []
    },
    {
      "cell_type": "code",
      "metadata": {
        "id": "ngZzCwQFDghl",
        "colab_type": "code",
        "colab": {}
      },
      "source": [
        "def noofclass(fea,label=True):\n",
        "    n_class=0\n",
        "    labels=[]\n",
        "    for i in range(fea[0].shape[0]):\n",
        "        labels.append(fea[0][i])\n",
        "        if fea[0][i]>n_class:\n",
        "            n_class=fea[0][i]\n",
        "        else:\n",
        "            n_class=n_class\n",
        "    if label==False:\n",
        "        return int(n_class+1)\n",
        "    else:\n",
        "        labels=np.matrix(labels)\n",
        "        return labels.transpose()"
      ],
      "execution_count": 0,
      "outputs": []
    },
    {
      "cell_type": "code",
      "metadata": {
        "id": "kmyQzBAyWEFt",
        "colab_type": "code",
        "colab": {}
      },
      "source": [
        "def linear_kernal(a,b):\n",
        "  return np.matmul(a,b.transpose())"
      ],
      "execution_count": 0,
      "outputs": []
    },
    {
      "cell_type": "code",
      "metadata": {
        "id": "z_GDJwf165lA",
        "colab_type": "code",
        "colab": {}
      },
      "source": [
        "def normalize(a,b):\n",
        "  temp=a+b\n",
        "  min=np.min(temp)\n",
        "  max=np.max(temp)\n",
        "  #print(min,max)\n",
        "  u=2*((temp-min)/(max-min))\n",
        "  u=u-1\n",
        "  return u "
      ],
      "execution_count": 0,
      "outputs": []
    },
    {
      "cell_type": "code",
      "metadata": {
        "id": "mnKy1NNEW7WG",
        "colab_type": "code",
        "colab": {}
      },
      "source": [
        "def sigmoid_inv(a):\n",
        "  temp=1/a\n",
        "  temp=temp-1\n",
        "  temp=np.log(temp)\n",
        "  temp=-temp\n",
        "  return temp"
      ],
      "execution_count": 0,
      "outputs": []
    },
    {
      "cell_type": "code",
      "metadata": {
        "id": "X6wktKGcrSX4",
        "colab_type": "code",
        "colab": {}
      },
      "source": [
        "import math\n",
        "\n",
        "def sigmoid(x):\n",
        "  return 1 / (1 + np.exp(-x))"
      ],
      "execution_count": 0,
      "outputs": []
    },
    {
      "cell_type": "code",
      "metadata": {
        "id": "QlcPLsCqcaTS",
        "colab_type": "code",
        "colab": {}
      },
      "source": [
        "def normalize_inv(a):\n",
        "  return (np.max(a)-a)/(np.max(a)-np.min(a))\n"
      ],
      "execution_count": 0,
      "outputs": []
    },
    {
      "cell_type": "markdown",
      "metadata": {
        "id": "gVTUzKf232LO",
        "colab_type": "text"
      },
      "source": [
        "# Morres-pseudo inverse"
      ]
    },
    {
      "cell_type": "code",
      "metadata": {
        "id": "99xlc6yS6srC",
        "colab_type": "code",
        "colab": {}
      },
      "source": [
        "def relu(features):\n",
        "  return np.maximum(0,features)\n",
        "def sigmoid(features):\n",
        "  return 1.0 / (1.0 + np.exp(-features))\n",
        "def linear(features,weights,bias):\n",
        "   return np.dot(features, np.transpose(weights)) + bias"
      ],
      "execution_count": 0,
      "outputs": []
    },
    {
      "cell_type": "code",
      "metadata": {
        "id": "AGMvzguk4Xuq",
        "colab_type": "code",
        "colab": {}
      },
      "source": [
        "### function for morres-pseudo inverse \n",
        "### Input: features, target, weights, bias\n",
        "### Output: Morres-matrix, Beta (output weights)\n",
        "def pseudoinverse(features, targets,weights,bias,forgettingFactor=0.999):\n",
        "    (numSamples, numOutputs) = targets.shape\n",
        "    assert features.shape[0] == targets.shape[0]\n",
        "\n",
        "    H = linear(features,weights,bias)\n",
        "\n",
        "    H = sigmoid(H)\n",
        "    \n",
        "    Ht = np.transpose(H)\n",
        "\n",
        "\n",
        "    M = (1/forgettingFactor) * M - np.dot((1/forgettingFactor) * M,\n",
        "                                     np.dot(Ht, np.dot(\n",
        "                                       pinv(np.eye(numSamples) + np.dot(H, np.dot((1/forgettingFactor) * M, Ht))),\n",
        "                                       np.dot(H, (1/forgettingFactor) * M))))\n",
        "    beta = beta + np.dot(M, np.dot(Ht, targets - np.dot(H,beta)))\n",
        "\n",
        "    return (M,beta)\n"
      ],
      "execution_count": 0,
      "outputs": []
    },
    {
      "cell_type": "markdown",
      "metadata": {
        "id": "mlCW8jxCBwdO",
        "colab_type": "text"
      },
      "source": [
        "#sample_g\n"
      ]
    },
    {
      "cell_type": "code",
      "metadata": {
        "id": "jl_51itLBzup",
        "colab_type": "code",
        "colab": {}
      },
      "source": [
        "def sample_g(fea):\n",
        "    nclass=noofclass(fea,False)\n",
        "    train_per_image=100;\n",
        "    fdatabase_label=noofclass(fea,True)\n",
        "    tr_idx=[]\n",
        "    ts_idx=[]\n",
        "    tr_list=[]\n",
        "    ts_list=[]\n",
        "    idx_label=0\n",
        "    for i in range(nclass):\n",
        "        idx_label=[]\n",
        "        for j in range(len(fdatabase_label)):\n",
        "            a=int(fdatabase_label[j])\n",
        "            if a==i:\n",
        "                idx_label.append(j)\n",
        "        num=len(idx_label)\n",
        "        idx_rand=randperm(num-1)\n",
        "        tr_num =train_per_image\n",
        "        for k in range(tr_num):\n",
        "            temp=idx_label[idx_rand[k]]\n",
        "            tr_list.append(temp)\n",
        "        for l in range(tr_num-1,num-1):\n",
        "            temp=idx_label[idx_rand[l]]\n",
        "            ts_list.append(temp)\n",
        "        \n",
        "    return np.array(tr_list),np.array(ts_list)"
      ],
      "execution_count": 0,
      "outputs": []
    },
    {
      "cell_type": "markdown",
      "metadata": {
        "id": "FliEB3qgJ5UQ",
        "colab_type": "text"
      },
      "source": [
        "#First General Layer - \n",
        "  Subspace Feature Extraction"
      ]
    },
    {
      "cell_type": "code",
      "metadata": {
        "id": "sqN759KOJ4rE",
        "colab_type": "code",
        "colab": {}
      },
      "source": [
        "def step1(training,testing):\n",
        "  X=training\n",
        "  y=testing\n",
        "  X_train, X_test, y_train, y_test = train_test_split(X, y, test_size=0.30, random_state=42)\n",
        "  print('traindata : ',X_train.shape,'testdata : ',X_test.shape,'train_label : ',y_train.shape,'test_label : ',y_test.shape)\n",
        "  return X_train, X_test, y_train, y_test"
      ],
      "execution_count": 0,
      "outputs": []
    },
    {
      "cell_type": "code",
      "metadata": {
        "id": "EG1LRa2e575f",
        "colab_type": "code",
        "colab": {}
      },
      "source": [
        "#weights and bias generation on random\n",
        "#for the first layer\n",
        "\n",
        "def step2(data_set):  \n",
        "  dim=data_set.shape\n",
        "  weights=np.random.randn(1,dim[0])\n",
        "  bias=np.random.randn(1,1)\n",
        "  H=np.dot(weights,data_set)+bias\n",
        "  #print('weights : ',weights.shape,'data : ',data_set.shape,'bias : ',bias.shape,'H size : ',H.shape)\n",
        "  return H"
      ],
      "execution_count": 0,
      "outputs": []
    },
    {
      "cell_type": "code",
      "metadata": {
        "id": "gJmf8wLK8b3i",
        "colab_type": "code",
        "colab": {}
      },
      "source": [
        "def step3(subspacefeature,labels):\n",
        "  temp=inv(c_i+np.dot(subspacefeature,subspacefeature.transpose()))\n",
        "  #print(labels.shape,temp.shape)\n",
        "  temp=np.dot(subspacefeature.transpose(),temp)\n",
        "  #print(temp.transpose().shape)\n",
        "  y=labels\n",
        "  weights=(y*temp).transpose()\n",
        "  #print(weights.shape,'-weights')\n",
        "  temp=weights*subspacefeature\n",
        "  ind = np.ones((1,subspacefeature.shape[1]))\n",
        "  y=np.matrix(y).transpose()\n",
        "  y=y*ind\n",
        "  #print(temp.shape,y.shape,'-v')\n",
        "  bias=mean_squared_error(temp,y)\n",
        "  bias=np.sqrt(bias)\n",
        "  return weights,bias"
      ],
      "execution_count": 0,
      "outputs": []
    },
    {
      "cell_type": "code",
      "metadata": {
        "id": "61yKCqzSDFE8",
        "colab_type": "code",
        "colab": {}
      },
      "source": [
        "def step4(weights,bias,subspacefeature,labels):\n",
        "  ind = np.ones((1,subspacefeature.shape[1]))\n",
        "  y=labels\n",
        "  y=np.matrix(y).transpose()\n",
        "  y=y*ind\n",
        "  e=y-(weights*subspacefeature+bias)\n",
        "  return e"
      ],
      "execution_count": 0,
      "outputs": []
    },
    {
      "cell_type": "code",
      "metadata": {
        "id": "jcaQphX0DpQI",
        "colab_type": "code",
        "colab": {}
      },
      "source": [
        "def step5(error,weights,subspacefeature):#step 5  &6\n",
        "  #c_i=np.random.randint(1,10)\n",
        "  temp=c_i+np.dot(weights,weights.transpose())\n",
        "  temp=np.linalg.pinv(temp)\n",
        "  temp=np.dot(weights.transpose(),temp.transpose())\n",
        "  temp=np.dot(weights.transpose(),temp.transpose())\n",
        "  p=error*temp\n",
        "  p=normalize(p,subspacefeature)\n",
        "  #print(p.shape)\n",
        "  return p"
      ],
      "execution_count": 0,
      "outputs": []
    },
    {
      "cell_type": "code",
      "metadata": {
        "id": "OUOTltJfEW42",
        "colab_type": "code",
        "colab": {}
      },
      "source": [
        "### APPLY BOOSTING PHASE HERE\n",
        "def step7(weight_fl,bias_fl,input_data,normalized_error):\n",
        "  #c_i=np.random.randint(1,10)\n",
        "  a=weight_fl\n",
        "  b=bias_fl\n",
        "  x=input_data\n",
        "  p=normalized_error\n",
        "  temp=np.ones(shape=(p.shape[1],x.shape[0]))\n",
        "  #print(temp.shape)\n",
        "  p_temp=p\n",
        "  p=p*temp\n",
        "  #print(p.shape)\n",
        "  a_temp=(p*np.dot(x.transpose(),np.linalg.pinv(c_i+np.dot(x,x.transpose()))).transpose())\n",
        "  a_f=a+0.5*(a_temp-a)\n",
        "  temp=np.array(a_f)*x\n",
        "  #print(p.shape)\n",
        "  b_f=np.sqrt(mean_squared_error(temp,p_temp))\n",
        "  #print(type(a_f),type(x),type(p))\n",
        "  h_f=np.array(a_f)*x+b_f\n",
        "  return h_f,a_f,b_f"
      ],
      "execution_count": 0,
      "outputs": []
    },
    {
      "cell_type": "markdown",
      "metadata": {
        "id": "fu3o_LTHbMQ1",
        "colab_type": "text"
      },
      "source": [
        "#Second Generel Layer -\n",
        "  Subspace features combination"
      ]
    },
    {
      "cell_type": "code",
      "metadata": {
        "id": "PF_kva9BRKor",
        "colab_type": "code",
        "colab": {}
      },
      "source": [
        "#def fea_comb(subnetwork_nodes,data_channels):\n",
        "def fea_comb(feature_array,subnetowk_nodes,data_channels):\n",
        "  for i in range(1,data_channels+1):\n",
        "    for j in range(1,subnetwork_nodes):\n",
        "      #temp=\"ch%s_fea_%s\"%(i,j)\n",
        "      temp=feature_array\n",
        "      if i==1 and j==1:\n",
        "        #h=np.loadtxt(temp)\n",
        "        h=temp\n",
        "      else:\n",
        "        prev_h=h\n",
        "        #h=np.loadtxt(temp)\n",
        "        h=feature_array\n",
        "        final_h=linear_kernal(h.transpose(),prev_h.transpose())\n",
        "  return final_h"
      ],
      "execution_count": 0,
      "outputs": []
    },
    {
      "cell_type": "markdown",
      "metadata": {
        "id": "-XB-LpsBUq2H",
        "colab_type": "text"
      },
      "source": [
        "# Third General Layer - \n",
        "  Classifier with Subnetowrk Nodes"
      ]
    },
    {
      "cell_type": "code",
      "metadata": {
        "id": "3o1az7DEU3_B",
        "colab_type": "code",
        "colab": {}
      },
      "source": [
        "def last_layer(final_features,test_labels):\n",
        "  c2=2**12\n",
        "  C=3\n",
        "  N=10\n",
        "  #step 1\n",
        "  h=final_features\n",
        "  for c in range(C):\n",
        "    if c==0:\n",
        "      prev_e=test_labels\n",
        "    else:\n",
        "      weights=c2+np.dot(h,h.transpose())\n",
        "      print(prev_e.shape)\n",
        "      temp=np.ones(prev_e.shape)\n",
        "      print(temp.shape)\n",
        "      \n",
        "      temp=prev_e+temp\n",
        "      print(temp.shape)\n",
        "      \n",
        "      temp=sigmoid_inv(temp)\n",
        "      print(temp.shape)\n",
        "      temp=np.dot(temp,np.dot(h.transpose(),np.linalg.pinv(weights)))\n",
        "      #weights=sigmoid_inv(prev_e+np.ones(prev_e.shape))*np.dot(h.transpose(),np.linalg.pinv(weights))\n",
        "      bias=np.sum(np.matmul(weights.transpose(),h.transpose())-(sigmoid_inv(prev_e))   )   \n",
        "      bias=bias/N\n",
        "      g=normalize_inv(sigmoid(weights*h.transpose()+bias))\n",
        "      in_pro=np.inner(prev_e,g.transpose()).transpose()\n",
        "      near_int=np.around(g)**2\n",
        "      output_weights=in_pro/near_int\n",
        "      e_c=prev_e-np.dot(output_weights,sigmoid(weights*ouput_weights+bias))\n",
        "  return e_c\n",
        "  #step 2"
      ],
      "execution_count": 0,
      "outputs": []
    },
    {
      "cell_type": "markdown",
      "metadata": {
        "id": "kEyuN2mNn16f",
        "colab_type": "text"
      },
      "source": [
        "⟨,⟩ - inner product\n",
        "|| || - nearest integer"
      ]
    },
    {
      "cell_type": "markdown",
      "metadata": {
        "id": "Uuyjdv2cwswN",
        "colab_type": "text"
      },
      "source": [
        "#main"
      ]
    },
    {
      "cell_type": "code",
      "metadata": {
        "id": "iPNynzA9wrq0",
        "colab_type": "code",
        "outputId": "3ce6e862-e2cb-4bb4-e37d-4780a74ab983",
        "colab": {
          "base_uri": "https://localhost:8080/",
          "height": 102
        }
      },
      "source": [
        "mat = scipy.io.loadmat('/content/drive/My Drive/final project /Matlabcode-feature-matrix/spatialpyramidfeatures4scene15.mat')\n",
        "featureMat=mat['featureMat']\n",
        "labelMat=mat['labelMat']\n",
        "labelMat=np.argwhere(labelMat==1)\n",
        "temp=[]\n",
        "b=[]\n",
        "for i in range(len(labelMat)):\n",
        "  value=labelMat[i][0]\n",
        "  b.append(labelMat[i][1])\n",
        "  temp.append(value)\n",
        "featureMat=featureMat.transpose()\n",
        "labelMat=np.array(temp)\n",
        "fea=np.column_stack([labelMat,featureMat])\n",
        "fea=fea.transpose()\n",
        "print(\"label Shape: \",labelMat.shape,'\\nfeature Shape: ',featureMat.shape)\n",
        "print('fea Shape: ',fea.shape)\n",
        "train_idx,test_idx=sample_g(fea)\n",
        "tr_fea=fea[: , train_idx].transpose()\n",
        "ts_fea=fea[:,  test_idx].transpose()\n",
        "print('train fea: ',tr_fea.shape,'test fea: ',ts_fea.shape)\n",
        "train_data=tr_fea\n",
        "test_data=ts_fea\n",
        "train_labels=labelMat[train_idx]\n",
        "test_labels=labelMat[test_idx]\n",
        "print('train labels: ',train_labels.shape,'test_labels: ',test_labels.shape)\n"
      ],
      "execution_count": 0,
      "outputs": [
        {
          "output_type": "stream",
          "text": [
            "label Shape:  (4485,) \n",
            "feature Shape:  (4485, 3000)\n",
            "fea Shape:  (3001, 4485)\n",
            "train fea:  (1500, 3001) test fea:  (2985, 3001)\n",
            "train labels:  (1500,) test_labels:  (2985,)\n"
          ],
          "name": "stdout"
        }
      ]
    },
    {
      "cell_type": "markdown",
      "metadata": {
        "id": "1nvvYxQsDYob",
        "colab_type": "text"
      },
      "source": [
        " matrix shape - (rows,columns)\n",
        " \n",
        "\n"
      ]
    },
    {
      "cell_type": "code",
      "metadata": {
        "id": "TmLHBPOpANGo",
        "colab_type": "code",
        "outputId": "aec05f8b-f1f3-4006-d177-2b245d63e041",
        "colab": {
          "base_uri": "https://localhost:8080/",
          "height": 232
        }
      },
      "source": [
        "train_inputs,test_inputs,train_labels,test_labels=tr_fea,ts_fea,train_labels,test_labels #step1\n",
        "\n",
        "data_channels=10\n",
        "subnetwork_nodes=3\n",
        "##First layer call\n",
        "for i in range(1,data_channels+1):\n",
        "  for j in range(1,subnetwork_nodes+1):\n",
        "      start_time=time()\n",
        "      sub=step2(train_inputs) #step2\n",
        "      w,b=step3(sub,train_labels) #step3\n",
        "      error=step4(w,b,sub,train_labels) #step 4\n",
        "      norm_err=step5(error,w,sub) #step 5 and 6\n",
        "      h_f,a_f,b_f=step7(w,b,train_inputs,norm_err) #step7\n",
        "      ###\n",
        "      ### AFTER BOOSTING PHASE IS DONE FOR THE FIRST TIME \n",
        "      ### SAVE THE WEIGHTS IN A FILE\n",
        "      ### \n",
        "      ### AFTER THE FIRST BLOCK OF DATA IS SENT THROUGH WE WILL USE THE PREVIOUSLY \n",
        "      ### SAVED WEIGHTS FILE AND ADD ON TO IT AND SAVE IT\n",
        "      ###\n",
        "      ### THAT COMPLETES THE SEQUENTIAL LEARNING PHASE\n",
        "      ###\n",
        "      end_time=time()\n",
        "      h=fea_comb(h_f,subnetwork_nodes,data_channels)\n",
        "train_time=end_time-start_time\n",
        "\n",
        "print('train time : ',train_time)"
      ],
      "execution_count": 4,
      "outputs": [
        {
          "output_type": "error",
          "ename": "NameError",
          "evalue": "ignored",
          "traceback": [
            "\u001b[0;31m---------------------------------------------------------------------------\u001b[0m",
            "\u001b[0;31mNameError\u001b[0m                                 Traceback (most recent call last)",
            "\u001b[0;32m<ipython-input-4-87293194caa1>\u001b[0m in \u001b[0;36m<module>\u001b[0;34m()\u001b[0m\n\u001b[0;32m----> 1\u001b[0;31m \u001b[0mtrain_inputs\u001b[0m\u001b[0;34m,\u001b[0m\u001b[0mtest_inputs\u001b[0m\u001b[0;34m,\u001b[0m\u001b[0mtrain_labels\u001b[0m\u001b[0;34m,\u001b[0m\u001b[0mtest_labels\u001b[0m\u001b[0;34m=\u001b[0m\u001b[0mtr_fea\u001b[0m\u001b[0;34m,\u001b[0m\u001b[0mts_fea\u001b[0m\u001b[0;34m,\u001b[0m\u001b[0mtrain_labels\u001b[0m\u001b[0;34m,\u001b[0m\u001b[0mtest_labels\u001b[0m \u001b[0;31m#step1\u001b[0m\u001b[0;34m\u001b[0m\u001b[0;34m\u001b[0m\u001b[0m\n\u001b[0m\u001b[1;32m      2\u001b[0m \u001b[0;34m\u001b[0m\u001b[0m\n\u001b[1;32m      3\u001b[0m \u001b[0mdata_channels\u001b[0m\u001b[0;34m=\u001b[0m\u001b[0;36m10\u001b[0m\u001b[0;34m\u001b[0m\u001b[0;34m\u001b[0m\u001b[0m\n\u001b[1;32m      4\u001b[0m \u001b[0msubnetwork_nodes\u001b[0m\u001b[0;34m=\u001b[0m\u001b[0;36m3\u001b[0m\u001b[0;34m\u001b[0m\u001b[0;34m\u001b[0m\u001b[0m\n\u001b[1;32m      5\u001b[0m \u001b[0;31m##First layer call\u001b[0m\u001b[0;34m\u001b[0m\u001b[0;34m\u001b[0m\u001b[0;34m\u001b[0m\u001b[0m\n",
            "\u001b[0;31mNameError\u001b[0m: name 'tr_fea' is not defined"
          ]
        }
      ]
    },
    {
      "cell_type": "markdown",
      "metadata": {
        "id": "BByAxe7_uOTb",
        "colab_type": "text"
      },
      "source": [
        "# Print statement\n"
      ]
    },
    {
      "cell_type": "code",
      "metadata": {
        "id": "PWxXhGzX0jN2",
        "colab_type": "code",
        "outputId": "4c140502-1708-44e2-f32c-7763bc046dc4",
        "colab": {
          "base_uri": "https://localhost:8080/"
        }
      },
      "source": [
        "print(\"------------------------------------------------------------------\")\n",
        "print('***train data*** : ')\n",
        "print(\"------------------------------------------------------------------\")\n",
        "\n",
        "print(train_inputs)\n",
        "print(\"------------------------------------------------------------------\")\n",
        "print('***sub*** : ')\n",
        "print(\"------------------------------------------------------------------\")\n",
        "\n",
        "print(sub)\n",
        "print(\"------------------------------------------------------------------\")\n",
        "print('***error*** : ')\n",
        "print(\"------------------------------------------------------------------\")\n",
        "print(error)\n",
        "print(\"------------------------------------------------------------------\")\n",
        "print('***norm_error*** : ')\n",
        "print(\"------------------------------------------------------------------\")\n",
        "print(norm_err)\n",
        "print(\"------------------------------------------------------------------\")\n",
        "print('**h_f*** : ')\n",
        "print(\"------------------------------------------------------------------\")\n",
        "\n",
        "print(h_f)\n",
        "print(\"------------------------------------------------------------------\")\n",
        "print('***h*** : ')\n",
        "print(\"------------------------------------------------------------------\")\n",
        "\n",
        "print(h)"
      ],
      "execution_count": 0,
      "outputs": [
        {
          "output_type": "stream",
          "text": [
            "------------------------------------------------------------------\n",
            "***train data*** : \n",
            "------------------------------------------------------------------\n",
            "[[ 0.00000000e+00  1.44991938e-03  2.32712289e-04 ...  4.16979755e-04\n",
            "   2.65626279e-04 -2.36126632e-04]\n",
            " [ 0.00000000e+00  4.79740044e-04  6.22145352e-04 ... -1.72075037e-04\n",
            "   8.10052793e-05  1.73847559e-04]\n",
            " [ 0.00000000e+00  4.74389384e-04  7.17514727e-04 ... -1.96396119e-04\n",
            "   1.56039559e-04 -1.40271889e-04]\n",
            " ...\n",
            " [ 1.40000000e+01  9.29094732e-04 -1.12636733e-03 ... -1.34838127e-04\n",
            "  -4.04841439e-04  1.14376255e-04]\n",
            " [ 1.40000000e+01  8.84274435e-04  2.31529762e-04 ... -2.26873529e-05\n",
            "  -4.78984650e-05  5.59374398e-04]\n",
            " [ 1.40000000e+01  8.67709941e-04  4.32997632e-04 ... -1.09671289e-04\n",
            "   3.35975561e-05 -5.83830942e-04]]\n",
            "------------------------------------------------------------------\n",
            "***sub*** : \n",
            "------------------------------------------------------------------\n",
            "[[ 6.39739317e+02 -2.60234421e-01 -4.14177052e-01 ... -3.50371293e-01\n",
            "  -3.51733622e-01 -3.26451378e-01]]\n",
            "------------------------------------------------------------------\n",
            "***error*** : \n",
            "------------------------------------------------------------------\n",
            "[[-8.22460213 -8.22460213 -8.22460213 ... -8.22460213 -8.22460213\n",
            "  -8.22460213]\n",
            " [-8.22460213 -8.22460213 -8.22460213 ... -8.22460213 -8.22460213\n",
            "  -8.22460213]\n",
            " [-8.22460213 -8.22460213 -8.22460213 ... -8.22460213 -8.22460213\n",
            "  -8.22460213]\n",
            " ...\n",
            " [-8.20390849  5.77539556  5.77539201 ...  5.77539368  5.77539364\n",
            "   5.77539423]\n",
            " [-8.20390849  5.77539556  5.77539201 ...  5.77539368  5.77539364\n",
            "   5.77539423]\n",
            " [-8.20390849  5.77539556  5.77539201 ...  5.77539368  5.77539364\n",
            "   5.77539423]]\n",
            "------------------------------------------------------------------\n",
            "***norm_error*** : \n",
            "------------------------------------------------------------------\n",
            "[[ 1.         -0.99921163 -0.99969251 ... -0.9994932  -0.99949745\n",
            "  -0.99941848]\n",
            " [ 1.         -0.99921163 -0.99969251 ... -0.9994932  -0.99949745\n",
            "  -0.99941848]\n",
            " [ 1.         -0.99921163 -0.99969251 ... -0.9994932  -0.99949745\n",
            "  -0.99941848]\n",
            " ...\n",
            " [ 0.93079024 -0.99918348 -0.99964771 ... -0.99945529 -0.9994594\n",
            "  -0.99938316]\n",
            " [ 0.93079024 -0.99918348 -0.99964771 ... -0.99945529 -0.9994594\n",
            "  -0.99938316]\n",
            " [ 0.93079024 -0.99918348 -0.99964771 ... -0.99945529 -0.9994594\n",
            "  -0.99938316]]\n",
            "------------------------------------------------------------------\n",
            "**h_f*** : \n",
            "------------------------------------------------------------------\n",
            "[[0.99941761 0.99941792 0.99941766 ... 0.99941773 0.99941764 0.99941757]\n",
            " [0.99941761 0.99941771 0.99941776 ... 0.99941755 0.99941761 0.99941763]\n",
            " [0.99941761 0.99941771 0.99941779 ... 0.99941755 0.99941762 0.99941759]\n",
            " ...\n",
            " [1.15234498 0.99941781 0.99941732 ... 0.99941757 0.99941756 0.99941762]\n",
            " [1.15234498 0.9994178  0.99941766 ... 0.9994176  0.9994176  0.99941767]\n",
            " [1.15234498 0.99941779 0.99941771 ... 0.99941757 0.99941761 0.99941753]]\n",
            "------------------------------------------------------------------\n",
            "***h*** : \n",
            "------------------------------------------------------------------\n",
            "[[1664.30714469 1577.39397656 1577.39387972 ... 1577.39394039\n",
            "  1577.39394429 1577.39394415]\n",
            " [1577.39397656 1498.25337704 1498.25327913 ... 1498.25334652\n",
            "  1498.25335042 1498.25335029]\n",
            " [1577.39387972 1498.25327913 1498.25318123 ... 1498.25324862\n",
            "  1498.25325252 1498.25325238]\n",
            " ...\n",
            " [1577.39394039 1498.25334652 1498.25324862 ... 1498.253316\n",
            "  1498.2533199  1498.25331977]\n",
            " [1577.39394429 1498.25335042 1498.25325252 ... 1498.2533199\n",
            "  1498.2533238  1498.25332367]\n",
            " [1577.39394415 1498.25335029 1498.25325238 ... 1498.25331977\n",
            "  1498.25332367 1498.25332354]]\n"
          ],
          "name": "stdout"
        }
      ]
    },
    {
      "cell_type": "code",
      "metadata": {
        "id": "cabo-L9_pKv6",
        "colab_type": "code",
        "outputId": "437ff3b7-4aaa-44c7-f2ba-7ca4eedd34c5",
        "colab": {
          "base_uri": "https://localhost:8080/"
        }
      },
      "source": [
        "print('weights before updation\\n',w)\n",
        "print('bias before updation \\n',b)\n",
        "print('-----------------------------------------------------------------')\n",
        "print(\"weights after updation \\n\",a_f)\n",
        "print(\"bias after updation \\n\",b_f)"
      ],
      "execution_count": 0,
      "outputs": [
        {
          "output_type": "stream",
          "text": [
            "weights before updation\n",
            " [[ 0.00000000e+00 -0.00000000e+00 -0.00000000e+00 ... -0.00000000e+00\n",
            "  -0.00000000e+00 -0.00000000e+00]\n",
            " [ 0.00000000e+00 -0.00000000e+00 -0.00000000e+00 ... -0.00000000e+00\n",
            "  -0.00000000e+00 -0.00000000e+00]\n",
            " [ 0.00000000e+00 -0.00000000e+00 -0.00000000e+00 ... -0.00000000e+00\n",
            "  -0.00000000e+00 -0.00000000e+00]\n",
            " ...\n",
            " [ 2.18515667e-02 -8.88882340e-06 -1.41470397e-05 ... -1.19676272e-05\n",
            "  -1.20141603e-05 -1.11505951e-05]\n",
            " [ 2.18515667e-02 -8.88882340e-06 -1.41470397e-05 ... -1.19676272e-05\n",
            "  -1.20141603e-05 -1.11505951e-05]\n",
            " [ 2.18515667e-02 -8.88882340e-06 -1.41470397e-05 ... -1.19676272e-05\n",
            "  -1.20141603e-05 -1.11505951e-05]]\n",
            "bias before updation \n",
            " 8.224602129309055\n",
            "-----------------------------------------------------------------\n",
            "weights after updation \n",
            " [[-2.39918366e-06  2.19905075e-04  2.56289604e-04 ...  3.01521925e-04\n",
            "   1.18736982e-04  1.30162300e-04]\n",
            " [-2.39918366e-06  2.19905075e-04  2.56289604e-04 ...  3.01521925e-04\n",
            "   1.18736982e-04  1.30162300e-04]\n",
            " [-2.39918366e-06  2.19905075e-04  2.56289604e-04 ...  3.01521925e-04\n",
            "   1.18736982e-04  1.30162300e-04]\n",
            " ...\n",
            " [ 1.09233842e-02  2.15457619e-04  2.49212542e-04 ...  2.95533912e-04\n",
            "   1.12728288e-04  1.24585215e-04]\n",
            " [ 1.09233842e-02  2.15457619e-04  2.49212542e-04 ...  2.95533912e-04\n",
            "   1.12728288e-04  1.24585215e-04]\n",
            " [ 1.09233842e-02  2.15457619e-04  2.49212542e-04 ...  2.95533912e-04\n",
            "   1.12728288e-04  1.24585215e-04]]\n",
            "bias after updation \n",
            " 0.9994176052167917\n"
          ],
          "name": "stdout"
        }
      ]
    },
    {
      "cell_type": "markdown",
      "metadata": {
        "id": "rzf2_Q3juSpZ",
        "colab_type": "text"
      },
      "source": [
        "# final output"
      ]
    },
    {
      "cell_type": "code",
      "metadata": {
        "id": "WRa__GqGy2mQ",
        "colab_type": "code",
        "outputId": "5d545339-c857-4b6c-f1ba-63e4027f7c71",
        "colab": {
          "base_uri": "https://localhost:8080/",
          "height": 283
        }
      },
      "source": [
        "last_layer(h,train_labels)"
      ],
      "execution_count": 0,
      "outputs": [
        {
          "output_type": "error",
          "ename": "ValueError",
          "evalue": "ignored",
          "traceback": [
            "\u001b[0;31m---------------------------------------------------------------------------\u001b[0m",
            "\u001b[0;31mValueError\u001b[0m                                Traceback (most recent call last)",
            "\u001b[0;32m<ipython-input-38-7f8a48579814>\u001b[0m in \u001b[0;36m<module>\u001b[0;34m()\u001b[0m\n\u001b[0;32m----> 1\u001b[0;31m \u001b[0mlast_layer\u001b[0m\u001b[0;34m(\u001b[0m\u001b[0mh\u001b[0m\u001b[0;34m,\u001b[0m\u001b[0mtrain_labels\u001b[0m\u001b[0;34m)\u001b[0m\u001b[0;34m\u001b[0m\u001b[0;34m\u001b[0m\u001b[0m\n\u001b[0m",
            "\u001b[0;32m<ipython-input-37-414298884e26>\u001b[0m in \u001b[0;36mlast_layer\u001b[0;34m(final_features, test_labels)\u001b[0m\n\u001b[1;32m      7\u001b[0m   \u001b[0;32mfor\u001b[0m \u001b[0mc\u001b[0m \u001b[0;32min\u001b[0m \u001b[0mrange\u001b[0m\u001b[0;34m(\u001b[0m\u001b[0mC\u001b[0m\u001b[0;34m)\u001b[0m\u001b[0;34m:\u001b[0m\u001b[0;34m\u001b[0m\u001b[0;34m\u001b[0m\u001b[0m\n\u001b[1;32m      8\u001b[0m     \u001b[0;32mif\u001b[0m \u001b[0mc\u001b[0m\u001b[0;34m==\u001b[0m\u001b[0;36m0\u001b[0m\u001b[0;34m:\u001b[0m\u001b[0;34m\u001b[0m\u001b[0;34m\u001b[0m\u001b[0m\n\u001b[0;32m----> 9\u001b[0;31m       \u001b[0mprev_e\u001b[0m\u001b[0;34m=\u001b[0m\u001b[0mtest_labels\u001b[0m\u001b[0;34m*\u001b[0m\u001b[0mnp\u001b[0m\u001b[0;34m.\u001b[0m\u001b[0mones\u001b[0m\u001b[0;34m(\u001b[0m\u001b[0;34m[\u001b[0m\u001b[0;36m1500\u001b[0m\u001b[0;34m,\u001b[0m\u001b[0;36m3001\u001b[0m\u001b[0;34m]\u001b[0m\u001b[0;34m)\u001b[0m\u001b[0;34m\u001b[0m\u001b[0;34m\u001b[0m\u001b[0m\n\u001b[0m\u001b[1;32m     10\u001b[0m     \u001b[0;32melse\u001b[0m\u001b[0;34m:\u001b[0m\u001b[0;34m\u001b[0m\u001b[0;34m\u001b[0m\u001b[0m\n\u001b[1;32m     11\u001b[0m       \u001b[0mweights\u001b[0m\u001b[0;34m=\u001b[0m\u001b[0mc2\u001b[0m\u001b[0;34m+\u001b[0m\u001b[0mnp\u001b[0m\u001b[0;34m.\u001b[0m\u001b[0mdot\u001b[0m\u001b[0;34m(\u001b[0m\u001b[0mh\u001b[0m\u001b[0;34m,\u001b[0m\u001b[0mh\u001b[0m\u001b[0;34m.\u001b[0m\u001b[0mtranspose\u001b[0m\u001b[0;34m(\u001b[0m\u001b[0;34m)\u001b[0m\u001b[0;34m)\u001b[0m\u001b[0;34m\u001b[0m\u001b[0;34m\u001b[0m\u001b[0m\n",
            "\u001b[0;31mValueError\u001b[0m: operands could not be broadcast together with shapes (1500,) (1500,3001) "
          ]
        }
      ]
    }
  ]
}
