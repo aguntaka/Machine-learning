{
  "nbformat": 4,
  "nbformat_minor": 0,
  "metadata": {
    "colab": {
      "name": "Scratch",
      "provenance": [],
      "collapsed_sections": [
        "LLjrHVQARPU6",
        "mlCW8jxCBwdO",
        "FliEB3qgJ5UQ",
        "fu3o_LTHbMQ1"
      ]
    },
    "kernelspec": {
      "name": "python3",
      "display_name": "Python 3"
    },
    "accelerator": "GPU"
  },
  "cells": [
    {
      "cell_type": "markdown",
      "metadata": {
        "id": "LLjrHVQARPU6",
        "colab_type": "text"
      },
      "source": [
        "# imports"
      ]
    },
    {
      "cell_type": "code",
      "metadata": {
        "id": "y3sYTTanvuP1",
        "colab_type": "code",
        "colab": {}
      },
      "source": [
        "import numpy as np\n",
        "import scipy.io\n",
        "import pandas as pd\n",
        "from random import randint\n",
        "from time import time\n",
        "sin=np.sin\n",
        "from sklearn.metrics import mean_squared_error\n",
        "from sklearn.preprocessing import MinMaxScaler\n",
        "asin=np.arcsin\n",
        "from numpy.linalg import inv\n",
        "from sklearn.metrics import mean_squared_error\n",
        "from sklearn.model_selection import train_test_split\n",
        "global c_i\n",
        "c_i=2**8"
      ],
      "execution_count": 0,
      "outputs": []
    },
    {
      "cell_type": "code",
      "metadata": {
        "id": "fK8j9IOxww1b",
        "colab_type": "code",
        "outputId": "219caf71-4945-4336-b6cf-bffd87b34356",
        "colab": {
          "base_uri": "https://localhost:8080/",
          "height": 0
        }
      },
      "source": [
        "from google.colab import drive\n",
        "drive.mount('/content/drive')"
      ],
      "execution_count": 29,
      "outputs": [
        {
          "output_type": "stream",
          "text": [
            "Drive already mounted at /content/drive; to attempt to forcibly remount, call drive.mount(\"/content/drive\", force_remount=True).\n"
          ],
          "name": "stdout"
        }
      ]
    },
    {
      "cell_type": "code",
      "metadata": {
        "id": "lLIZ9dTcOOZ4",
        "colab_type": "code",
        "colab": {}
      },
      "source": [
        "######optional to save all features in a seperate folder\n",
        "import os\n",
        "\n",
        "##### choose ur own folder to save them\n",
        "\n",
        "os.chdir('/content/drive/My Drive/final project /data-channels')"
      ],
      "execution_count": 0,
      "outputs": []
    },
    {
      "cell_type": "markdown",
      "metadata": {
        "id": "Wl1JpWMXC1Nr",
        "colab_type": "text"
      },
      "source": [
        "#Custom function"
      ]
    },
    {
      "cell_type": "code",
      "metadata": {
        "id": "zFkDHDsaC4CF",
        "colab_type": "code",
        "colab": {}
      },
      "source": [
        "def randperm(n):\n",
        "    r_perm=[]\n",
        "    while len(r_perm)!=n:\n",
        "        k=randint(1,n)\n",
        "        if k not in r_perm:\n",
        "            r_perm.append(k)\n",
        "        else:\n",
        "            pass\n",
        "    return r_perm"
      ],
      "execution_count": 0,
      "outputs": []
    },
    {
      "cell_type": "code",
      "metadata": {
        "id": "ngZzCwQFDghl",
        "colab_type": "code",
        "colab": {}
      },
      "source": [
        "def noofclass(fea,label=True):\n",
        "    n_class=0\n",
        "    labels=[]\n",
        "    for i in range(fea[0].shape[0]):\n",
        "        labels.append(fea[0][i])\n",
        "        if fea[0][i]>n_class:\n",
        "            n_class=fea[0][i]\n",
        "        else:\n",
        "            n_class=n_class\n",
        "    if label==False:\n",
        "        return int(n_class+1)\n",
        "    else:\n",
        "        labels=np.matrix(labels)\n",
        "        return labels.transpose()"
      ],
      "execution_count": 0,
      "outputs": []
    },
    {
      "cell_type": "code",
      "metadata": {
        "id": "kmyQzBAyWEFt",
        "colab_type": "code",
        "colab": {}
      },
      "source": [
        "def linear_kernal(a,b):\n",
        "  return np.matmul(a,b.transpose())"
      ],
      "execution_count": 0,
      "outputs": []
    },
    {
      "cell_type": "code",
      "metadata": {
        "id": "z_GDJwf165lA",
        "colab_type": "code",
        "colab": {}
      },
      "source": [
        "def normalize(a,b):\n",
        "  temp=a+b\n",
        "  min=np.min(temp)\n",
        "  max=np.max(temp)\n",
        "  #print(min,max)\n",
        "  u=2*((temp-min)/(max-min))\n",
        "  u=u-1\n",
        "  return u "
      ],
      "execution_count": 0,
      "outputs": []
    },
    {
      "cell_type": "code",
      "metadata": {
        "id": "mnKy1NNEW7WG",
        "colab_type": "code",
        "colab": {}
      },
      "source": [
        "def sigmoid_inv(a):\n",
        "  temp=1/a\n",
        "  temp=temp-1\n",
        "  temp=np.log(temp)\n",
        "  temp=-temp\n",
        "  return temp"
      ],
      "execution_count": 0,
      "outputs": []
    },
    {
      "cell_type": "code",
      "metadata": {
        "id": "X6wktKGcrSX4",
        "colab_type": "code",
        "colab": {}
      },
      "source": [
        "import math\n",
        "\n",
        "def sigmoid(x):\n",
        "  return 1 / (1 + math.exp(-x))"
      ],
      "execution_count": 0,
      "outputs": []
    },
    {
      "cell_type": "markdown",
      "metadata": {
        "id": "mlCW8jxCBwdO",
        "colab_type": "text"
      },
      "source": [
        "#sample_g\n"
      ]
    },
    {
      "cell_type": "code",
      "metadata": {
        "id": "jl_51itLBzup",
        "colab_type": "code",
        "colab": {}
      },
      "source": [
        "def sample_g(fea):\n",
        "    nclass=noofclass(fea,False)\n",
        "    train_per_image=100;\n",
        "    fdatabase_label=noofclass(fea,True)\n",
        "    tr_idx=[]\n",
        "    ts_idx=[]\n",
        "    tr_list=[]\n",
        "    ts_list=[]\n",
        "    idx_label=0\n",
        "    for i in range(nclass):\n",
        "        idx_label=[]\n",
        "        for j in range(len(fdatabase_label)):\n",
        "            a=int(fdatabase_label[j])\n",
        "            if a==i:\n",
        "                idx_label.append(j)\n",
        "        num=len(idx_label)\n",
        "        idx_rand=randperm(num-1)\n",
        "        tr_num =train_per_image\n",
        "        for k in range(tr_num):\n",
        "            temp=idx_label[idx_rand[k]]\n",
        "            tr_list.append(temp)\n",
        "        for l in range(tr_num-1,num-1):\n",
        "            temp=idx_label[idx_rand[l]]\n",
        "            ts_list.append(temp)\n",
        "        \n",
        "    return np.array(tr_list),np.array(ts_list)"
      ],
      "execution_count": 0,
      "outputs": []
    },
    {
      "cell_type": "markdown",
      "metadata": {
        "id": "FliEB3qgJ5UQ",
        "colab_type": "text"
      },
      "source": [
        "#First General Layer - \n",
        "  Subspace Feature Extraction"
      ]
    },
    {
      "cell_type": "code",
      "metadata": {
        "id": "sqN759KOJ4rE",
        "colab_type": "code",
        "colab": {}
      },
      "source": [
        "def step1(training,testing):\n",
        "  X=training\n",
        "  y=testing\n",
        "  X_train, X_test, y_train, y_test = train_test_split(X, y, test_size=0.30, random_state=42)\n",
        "  print('traindata : ',X_train.shape,'testdata : ',X_test.shape,'train_label : ',y_train.shape,'test_label : ',y_test.shape)\n",
        "  return X_train, X_test, y_train, y_test"
      ],
      "execution_count": 0,
      "outputs": []
    },
    {
      "cell_type": "code",
      "metadata": {
        "id": "EG1LRa2e575f",
        "colab_type": "code",
        "colab": {}
      },
      "source": [
        "#weights and bias generation on random\n",
        "#for the first layer\n",
        "\n",
        "def step2(data_set):  \n",
        "  dim=data_set.shape\n",
        "  weights=np.random.randn(dim[0],dim[1])\n",
        "  bias=np.random.randn(dim[0],dim[1])\n",
        "  H=weights*data_set+bias\n",
        "  #print('weights : ',weights.shape,'data : ',data_set.shape,'bias : ',bias.shape,'H size : ',H.shape)\n",
        "  return H"
      ],
      "execution_count": 0,
      "outputs": []
    },
    {
      "cell_type": "code",
      "metadata": {
        "id": "gJmf8wLK8b3i",
        "colab_type": "code",
        "colab": {}
      },
      "source": [
        "def step3(subspacefeature,labels):\n",
        "  temp=inv(c_i+np.dot(subspacefeature,subspacefeature.transpose()))\n",
        "  #print(labels.shape,temp.shape)\n",
        "  temp=np.dot(subspacefeature.transpose(),temp)\n",
        "  #print(temp.transpose().shape)\n",
        "  y=labels\n",
        "  weights=(y*temp).transpose()\n",
        "  #print(weights.shape,'-weights')\n",
        "  temp=weights*subspacefeature\n",
        "  ind = np.ones((1,subspacefeature.shape[1]))\n",
        "  y=np.matrix(y).transpose()\n",
        "  y=y*ind\n",
        "  #print(temp.shape,y.shape,'-v')\n",
        "  bias=mean_squared_error(temp,y)\n",
        "  bias=np.sqrt(bias)\n",
        "  return weights,bias"
      ],
      "execution_count": 0,
      "outputs": []
    },
    {
      "cell_type": "code",
      "metadata": {
        "id": "61yKCqzSDFE8",
        "colab_type": "code",
        "colab": {}
      },
      "source": [
        "def step4(weights,bias,subspacefeature,labels):\n",
        "  ind = np.ones((1,subspacefeature.shape[1]))\n",
        "  y=labels\n",
        "  y=np.matrix(y).transpose()\n",
        "  y=y*ind\n",
        "  e=y-(weights*subspacefeature+bias)\n",
        "  return e"
      ],
      "execution_count": 0,
      "outputs": []
    },
    {
      "cell_type": "code",
      "metadata": {
        "id": "jcaQphX0DpQI",
        "colab_type": "code",
        "colab": {}
      },
      "source": [
        "def step5(error,weights,subspacefeature):#step 5  &6\n",
        "  #c_i=np.random.randint(1,10)\n",
        "  temp=c_i+np.dot(weights,weights.transpose())\n",
        "  temp=np.linalg.pinv(temp)\n",
        "  temp=np.dot(weights.transpose(),temp.transpose())\n",
        "  temp=np.dot(weights.transpose(),temp.transpose())\n",
        "  p=error*temp\n",
        "  p=normalize(p,subspacefeature)\n",
        "  #print(p.shape)\n",
        "  return p"
      ],
      "execution_count": 0,
      "outputs": []
    },
    {
      "cell_type": "code",
      "metadata": {
        "id": "OUOTltJfEW42",
        "colab_type": "code",
        "colab": {}
      },
      "source": [
        "def step7(weight_fl,bias_fl,input_data,normalized_error):\n",
        "  #c_i=np.random.randint(1,10)\n",
        "  a=weight_fl\n",
        "  b=bias_fl\n",
        "  x=input_data\n",
        "  p=normalized_error\n",
        "  temp=np.ones(shape=(p.shape[1],x.shape[0]))\n",
        "  #print(temp.shape)\n",
        "  p_temp=p\n",
        "  p=p*temp\n",
        "  #print(p.shape)\n",
        "  a_temp=(p*np.dot(x.transpose(),np.linalg.pinv(c_i+np.dot(x,x.transpose()))).transpose())\n",
        "  a_f=a+0.5*(a_temp-a)\n",
        "  temp=np.array(a_f)*x\n",
        "  #print(p.shape)\n",
        "  b_f=np.sqrt(mean_squared_error(temp,p_temp))\n",
        "  #print(type(a_f),type(x),type(p))\n",
        "  h_f=np.array(a_f)*x+b_f\n",
        "  return h_f"
      ],
      "execution_count": 0,
      "outputs": []
    },
    {
      "cell_type": "markdown",
      "metadata": {
        "id": "fu3o_LTHbMQ1",
        "colab_type": "text"
      },
      "source": [
        "#Second Generel Layer -\n",
        "  Subspace features combination"
      ]
    },
    {
      "cell_type": "code",
      "metadata": {
        "id": "PF_kva9BRKor",
        "colab_type": "code",
        "colab": {}
      },
      "source": [
        "#def fea_comb(subnetwork_nodes,data_channels):\n",
        "def fea_comb(feature_array,subnetowk_nodes,data_channels):\n",
        "  for i in range(1,data_channels+1):\n",
        "    for j in range(1,subnetwork_nodes):\n",
        "      #temp=\"ch%s_fea_%s\"%(i,j)\n",
        "      temp=feature_array\n",
        "      if i==1 and j==1:\n",
        "        #h=np.loadtxt(temp)\n",
        "        h=temp\n",
        "      else:\n",
        "        prev_h=h\n",
        "        #h=np.loadtxt(temp)\n",
        "        h=feature_array\n",
        "        final_h=linear_kernal(h.transpose(),prev_h.transpose())\n",
        "  return final_h"
      ],
      "execution_count": 0,
      "outputs": []
    },
    {
      "cell_type": "markdown",
      "metadata": {
        "id": "-XB-LpsBUq2H",
        "colab_type": "text"
      },
      "source": [
        "# Third General Layer - \n",
        "  Classifier with Subnetowrk Nodes"
      ]
    },
    {
      "cell_type": "code",
      "metadata": {
        "id": "3o1az7DEU3_B",
        "colab_type": "code",
        "colab": {}
      },
      "source": [
        "def last_layer(final_features,test_labels):\n",
        "  c2=2**12\n",
        "  #step 1\n",
        "  h=final_features\n",
        "  for c in range(3):\n",
        "    if c==0:\n",
        "      prev_e=test_labels\n",
        "    else:\n",
        "      weights=c2+np.matmul(h,h.transpose())\n",
        "      weights=np.dot(sigmoid_inv(prev_e),np.matmul(h.transpose(),np.linalg.pinv(weights)))\n",
        "      bias=np.dot(weights,h)-(sigmoid_inv(prev_e))      \n",
        "      bias=bias/N\n",
        "      g=normalze_inv(sigmoid(weights*h+bias))\n",
        "      in_pro=np.inner(prev_e,g)\n",
        "      near_int=np.around(g)**2\n",
        "      output_weights=in_pro/near_int\n",
        "      e_c=prev_e-np.dot(output_weights,sigmoid(weights*ouput_weights+bias))\n",
        "  return e_c\n",
        "  #step 2"
      ],
      "execution_count": 0,
      "outputs": []
    },
    {
      "cell_type": "markdown",
      "metadata": {
        "id": "kEyuN2mNn16f",
        "colab_type": "text"
      },
      "source": [
        "⟨,⟩ - inner product\n",
        "|| || - nearest integer"
      ]
    },
    {
      "cell_type": "markdown",
      "metadata": {
        "id": "Uuyjdv2cwswN",
        "colab_type": "text"
      },
      "source": [
        "#main"
      ]
    },
    {
      "cell_type": "code",
      "metadata": {
        "id": "iPNynzA9wrq0",
        "colab_type": "code",
        "outputId": "cf5e9027-abe7-4e9a-da2e-71e3db332389",
        "colab": {
          "base_uri": "https://localhost:8080/",
          "height": 102
        }
      },
      "source": [
        "mat = scipy.io.loadmat('/content/drive/My Drive/final project /Matlabcode-feature-matrix/spatialpyramidfeatures4scene15.mat')\n",
        "featureMat=mat['featureMat']\n",
        "labelMat=mat['labelMat']\n",
        "labelMat=np.argwhere(labelMat==1)\n",
        "temp=[]\n",
        "b=[]\n",
        "for i in range(len(labelMat)):\n",
        "  value=labelMat[i][0]\n",
        "  b.append(labelMat[i][1])\n",
        "  temp.append(value)\n",
        "featureMat=featureMat.transpose()\n",
        "labelMat=np.array(temp)\n",
        "fea=np.column_stack([labelMat,featureMat])\n",
        "fea=fea.transpose()\n",
        "print(\"label Shape: \",labelMat.shape,'\\nfeature Shape: ',featureMat.shape)\n",
        "print('fea Shape: ',fea.shape)\n",
        "train_idx,test_idx=sample_g(fea)\n",
        "tr_fea=fea[: , train_idx].transpose()\n",
        "ts_fea=fea[:,  test_idx].transpose()\n",
        "print('train fea: ',tr_fea.shape,'test fea: ',ts_fea.shape)\n",
        "train_data=tr_fea\n",
        "test_data=ts_fea\n",
        "train_labels=labelMat[train_idx]\n",
        "test_labels=labelMat[test_idx]\n",
        "print('train labels: ',train_labels.shape,'test_labels: ',test_labels.shape)\n"
      ],
      "execution_count": 46,
      "outputs": [
        {
          "output_type": "stream",
          "text": [
            "label Shape:  (4485,) \n",
            "feature Shape:  (4485, 3000)\n",
            "fea Shape:  (3001, 4485)\n",
            "train fea:  (1500, 3001) test fea:  (2985, 3001)\n",
            "train labels:  (1500,) test_labels:  (2985,)\n"
          ],
          "name": "stdout"
        }
      ]
    },
    {
      "cell_type": "markdown",
      "metadata": {
        "id": "1nvvYxQsDYob",
        "colab_type": "text"
      },
      "source": [
        " matrix shape - (rows,columns)\n",
        " \n",
        "\n"
      ]
    },
    {
      "cell_type": "code",
      "metadata": {
        "id": "TmLHBPOpANGo",
        "colab_type": "code",
        "outputId": "33a32e96-b650-4e58-aa1a-70319b69aec0",
        "colab": {
          "base_uri": "https://localhost:8080/",
          "height": 34
        }
      },
      "source": [
        "train_inputs,test_inputs,train_labels,test_labels=tr_fea,ts_fea,train_labels,test_labels #step1\n",
        "\n",
        "data_channels=10\n",
        "subnetwork_nodes=3\n",
        "##First layer call\n",
        "for i in range(1,data_channels+1):\n",
        "  for j in range(1,subnetwork_nodes+1):\n",
        "      start_time=time()\n",
        "      sub=step2(train_inputs) #step2\n",
        "      w,b=step3(sub,train_labels) #step3\n",
        "      error=step4(w,b,sub,train_labels) #step 4\n",
        "      norm_err=step5(error,w,sub) #step 5 and 6\n",
        "      h_f=step7(w,b,train_inputs,norm_err) #step7\n",
        "      end_time=time()\n",
        "      h=fea_comb(h_f,subnetwork_nodes,data_channels)\n",
        "      #h_f=h_f[:100]\n",
        "      #temp=\"ch%s_fea_%s\"%(i,j)\n",
        "      #np.savetxt(temp,h_f)### can eleminate this step by direct calling feature comb\n",
        "train_time=end_time-start_time\n",
        "print('train time : ',train_time)"
      ],
      "execution_count": 48,
      "outputs": [
        {
          "output_type": "stream",
          "text": [
            "train time :  9.807191848754883\n"
          ],
          "name": "stdout"
        }
      ]
    },
    {
      "cell_type": "code",
      "metadata": {
        "id": "ZhfP71O1xhGp",
        "colab_type": "code",
        "colab": {}
      },
      "source": [
        "ktr=h_f[train_labels]\n",
        "kte=h_f[test_labels]"
      ],
      "execution_count": 0,
      "outputs": []
    },
    {
      "cell_type": "code",
      "metadata": {
        "id": "q6v8oIWuQSTs",
        "colab_type": "code",
        "colab": {
          "base_uri": "https://localhost:8080/",
          "height": 418
        },
        "outputId": "54079495-f52c-4262-cd68-2dfb697b8dcc"
      },
      "source": [
        "final_error=last_layer(ktr,train_labels)"
      ],
      "execution_count": 60,
      "outputs": [
        {
          "output_type": "stream",
          "text": [
            "/usr/local/lib/python3.6/dist-packages/ipykernel_launcher.py:2: RuntimeWarning: divide by zero encountered in true_divide\n",
            "  \n",
            "/usr/local/lib/python3.6/dist-packages/ipykernel_launcher.py:4: RuntimeWarning: divide by zero encountered in log\n",
            "  after removing the cwd from sys.path.\n",
            "/usr/local/lib/python3.6/dist-packages/ipykernel_launcher.py:4: RuntimeWarning: invalid value encountered in log\n",
            "  after removing the cwd from sys.path.\n"
          ],
          "name": "stderr"
        },
        {
          "output_type": "error",
          "ename": "ValueError",
          "evalue": "ignored",
          "traceback": [
            "\u001b[0;31m---------------------------------------------------------------------------\u001b[0m",
            "\u001b[0;31mValueError\u001b[0m                                Traceback (most recent call last)",
            "\u001b[0;32m<ipython-input-60-7cceb127d088>\u001b[0m in \u001b[0;36m<module>\u001b[0;34m()\u001b[0m\n\u001b[0;32m----> 1\u001b[0;31m \u001b[0mfinal_error\u001b[0m\u001b[0;34m=\u001b[0m\u001b[0mlast_layer\u001b[0m\u001b[0;34m(\u001b[0m\u001b[0mktr\u001b[0m\u001b[0;34m,\u001b[0m\u001b[0mtrain_labels\u001b[0m\u001b[0;34m)\u001b[0m\u001b[0;34m\u001b[0m\u001b[0;34m\u001b[0m\u001b[0m\n\u001b[0m",
            "\u001b[0;32m<ipython-input-59-13964c7b1b47>\u001b[0m in \u001b[0;36mlast_layer\u001b[0;34m(final_features, test_labels)\u001b[0m\n\u001b[1;32m      8\u001b[0m     \u001b[0;32melse\u001b[0m\u001b[0;34m:\u001b[0m\u001b[0;34m\u001b[0m\u001b[0;34m\u001b[0m\u001b[0m\n\u001b[1;32m      9\u001b[0m       \u001b[0mweights\u001b[0m\u001b[0;34m=\u001b[0m\u001b[0mc2\u001b[0m\u001b[0;34m+\u001b[0m\u001b[0mnp\u001b[0m\u001b[0;34m.\u001b[0m\u001b[0mmatmul\u001b[0m\u001b[0;34m(\u001b[0m\u001b[0mh\u001b[0m\u001b[0;34m,\u001b[0m\u001b[0mh\u001b[0m\u001b[0;34m.\u001b[0m\u001b[0mtranspose\u001b[0m\u001b[0;34m(\u001b[0m\u001b[0;34m)\u001b[0m\u001b[0;34m)\u001b[0m\u001b[0;34m\u001b[0m\u001b[0;34m\u001b[0m\u001b[0m\n\u001b[0;32m---> 10\u001b[0;31m       \u001b[0mweights\u001b[0m\u001b[0;34m=\u001b[0m\u001b[0mnp\u001b[0m\u001b[0;34m.\u001b[0m\u001b[0mdot\u001b[0m\u001b[0;34m(\u001b[0m\u001b[0msigmoid_inv\u001b[0m\u001b[0;34m(\u001b[0m\u001b[0mprev_e\u001b[0m\u001b[0;34m)\u001b[0m\u001b[0;34m.\u001b[0m\u001b[0mtranspose\u001b[0m\u001b[0;34m(\u001b[0m\u001b[0;34m)\u001b[0m\u001b[0;34m,\u001b[0m\u001b[0mnp\u001b[0m\u001b[0;34m.\u001b[0m\u001b[0mmatmul\u001b[0m\u001b[0;34m(\u001b[0m\u001b[0mh\u001b[0m\u001b[0;34m.\u001b[0m\u001b[0mtranspose\u001b[0m\u001b[0;34m(\u001b[0m\u001b[0;34m)\u001b[0m\u001b[0;34m,\u001b[0m\u001b[0mnp\u001b[0m\u001b[0;34m.\u001b[0m\u001b[0mlinalg\u001b[0m\u001b[0;34m.\u001b[0m\u001b[0mpinv\u001b[0m\u001b[0;34m(\u001b[0m\u001b[0mweights\u001b[0m\u001b[0;34m)\u001b[0m\u001b[0;34m)\u001b[0m\u001b[0;34m)\u001b[0m\u001b[0;34m\u001b[0m\u001b[0;34m\u001b[0m\u001b[0m\n\u001b[0m\u001b[1;32m     11\u001b[0m       \u001b[0mbias\u001b[0m\u001b[0;34m=\u001b[0m\u001b[0mnp\u001b[0m\u001b[0;34m.\u001b[0m\u001b[0mdot\u001b[0m\u001b[0;34m(\u001b[0m\u001b[0mweights\u001b[0m\u001b[0;34m,\u001b[0m\u001b[0mh\u001b[0m\u001b[0;34m)\u001b[0m\u001b[0;34m-\u001b[0m\u001b[0;34m(\u001b[0m\u001b[0msigmoid_inv\u001b[0m\u001b[0;34m(\u001b[0m\u001b[0mprev_e\u001b[0m\u001b[0;34m)\u001b[0m\u001b[0;34m)\u001b[0m\u001b[0;34m\u001b[0m\u001b[0;34m\u001b[0m\u001b[0m\n\u001b[1;32m     12\u001b[0m       \u001b[0mbias\u001b[0m\u001b[0;34m=\u001b[0m\u001b[0mbias\u001b[0m\u001b[0;34m/\u001b[0m\u001b[0mN\u001b[0m\u001b[0;34m\u001b[0m\u001b[0;34m\u001b[0m\u001b[0m\n",
            "\u001b[0;32m<__array_function__ internals>\u001b[0m in \u001b[0;36mdot\u001b[0;34m(*args, **kwargs)\u001b[0m\n",
            "\u001b[0;31mValueError\u001b[0m: shapes (1500,) and (3001,1500) not aligned: 1500 (dim 0) != 3001 (dim 0)"
          ]
        }
      ]
    }
  ]
}