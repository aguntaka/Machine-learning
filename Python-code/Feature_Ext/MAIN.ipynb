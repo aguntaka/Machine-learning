{
 "cells": [
  {
   "cell_type": "code",
   "execution_count": 1,
   "metadata": {},
   "outputs": [],
   "source": [
    "import scipy.io\n",
    "from random import randint\n",
    "import numpy as np"
   ]
  },
  {
   "cell_type": "code",
   "execution_count": 2,
   "metadata": {},
   "outputs": [],
   "source": [
    "def randperm(n):\n",
    "    r_perm=[]\n",
    "    while len(r_perm)!=n:\n",
    "        k=randint(1,n)\n",
    "        if k not in r_perm:\n",
    "            r_perm.append(k)\n",
    "        else:\n",
    "            pass\n",
    "    return r_perm\n",
    "    \n",
    "#randperm(15)"
   ]
  },
  {
   "cell_type": "code",
   "execution_count": 3,
   "metadata": {},
   "outputs": [],
   "source": [
    "def noofclass(fea,label=True):\n",
    "    n_class=0\n",
    "    labels=[]\n",
    "    for i in range(fea[0].shape[0]):\n",
    "        labels.append(fea[0][i][0])\n",
    "        if fea[0][i][0]>n_class:\n",
    "            n_class=fea[0][i][0]\n",
    "        else:\n",
    "            n_class=n_class\n",
    "    if label==False:\n",
    "        return n_class+1\n",
    "    else:\n",
    "        labels=np.matrix(labels)\n",
    "        return labels.transpose()"
   ]
  },
  {
   "cell_type": "code",
   "execution_count": 4,
   "metadata": {},
   "outputs": [],
   "source": [
    "def sample_g(fea):\n",
    "    nclass=noofclass(fea,False)\n",
    "    train_per_image=100;\n",
    "    fdatabase_label=noofclass(fea,True)\n",
    "    tr_idx=[]\n",
    "    ts_idx=[]\n",
    "    tr_list=[]\n",
    "    ts_list=[]\n",
    "    idx_label=0\n",
    "    for i in range(nclass):\n",
    "        idx_label=[]\n",
    "        for j in range(len(fdatabase_label)):\n",
    "            a=int(fdatabase_label[j])\n",
    "            if a==i:\n",
    "                idx_label.append(j)\n",
    "        num=len(idx_label)\n",
    "        idx_rand=randperm(num-1)\n",
    "        tr_num =train_per_image\n",
    "        for k in range(tr_num):\n",
    "            temp=idx_label[idx_rand[k]]\n",
    "            tr_list.append(temp)\n",
    "        if i==0:\n",
    "            tr_idx=np.array(tr_list)\n",
    "        else:\n",
    "            tr_idx=np.column_stack((tr_idx,tr_list))\n",
    "        print(tr_idx.shape)\n",
    "        tr_list=[]\n",
    "        \"\"\"for l in range(tr_num,num-1):\n",
    "            temp=idx_label[idx_rand[l]]\n",
    "            ts_list.append(temp)\n",
    "        if i==0:\n",
    "            ts_idx=np.array(ts_list)\n",
    "        else:\n",
    "            ts_idx=np.column_stack((ts_idx,ts_list))\n",
    "        ts_list=[]\"\"\"\n",
    "    return tr_idx,ts_idx"
   ]
  },
  {
   "cell_type": "code",
   "execution_count": null,
   "metadata": {},
   "outputs": [],
   "source": [
    "def first_layer():\n",
    "    "
   ]
  },
  {
   "cell_type": "code",
   "execution_count": null,
   "metadata": {},
   "outputs": [],
   "source": [
    "def featurecomb(ktr,kte,name,sn,NumberofTrainingData):\n",
    "    for i in range(1:,11):\n",
    "        s2='feature_%d.mat'%i\n",
    "        s2=\n",
    "    "
   ]
  },
  {
   "cell_type": "code",
   "execution_count": null,
   "metadata": {},
   "outputs": [],
   "source": [
    "def last_layer():\n",
    "    "
   ]
  },
  {
   "cell_type": "code",
   "execution_count": 5,
   "metadata": {},
   "outputs": [
    {
     "name": "stdout",
     "output_type": "stream",
     "text": [
      "(100,)\n",
      "(100, 2)\n",
      "(100, 3)\n",
      "(100, 4)\n",
      "(100, 5)\n",
      "(100, 6)\n",
      "(100, 7)\n",
      "(100, 8)\n",
      "(100, 9)\n",
      "(100, 10)\n",
      "(100, 11)\n",
      "(100, 12)\n",
      "(100, 13)\n",
      "(100, 14)\n",
      "(100, 15)\n"
     ]
    }
   ],
   "source": [
    "mat = scipy.io.loadmat('C:/Users/LENOVO/Downloads/spatialpyramidfeatures4scene15.mat')\n",
    "featureMat=mat['featureMat']\n",
    "labelMat=mat['labelMat']\n",
    "labelMat=np.argwhere(labelMat==1)\n",
    "featureMat=featureMat.transpose()\n",
    "fea=[labelMat,featureMat]\n",
    "#print(labelMat.shape,featureMat.shape)\n",
    "train,test=sample_g(fea)"
   ]
  },
  {
   "cell_type": "code",
   "execution_count": 6,
   "metadata": {},
   "outputs": [
    {
     "ename": "NameError",
     "evalue": "name 'train_time' is not defined",
     "output_type": "error",
     "traceback": [
      "\u001b[1;31m---------------------------------------------------------------------------\u001b[0m",
      "\u001b[1;31mNameError\u001b[0m                                 Traceback (most recent call last)",
      "\u001b[1;32m<ipython-input-6-cbb8db8064db>\u001b[0m in \u001b[0;36m<module>\u001b[1;34m\u001b[0m\n\u001b[0;32m      4\u001b[0m     \u001b[0mdimensions\u001b[0m\u001b[1;33m=\u001b[0m\u001b[1;36m100\u001b[0m\u001b[1;33m;\u001b[0m\u001b[1;33m\u001b[0m\u001b[1;33m\u001b[0m\u001b[0m\n\u001b[0;32m      5\u001b[0m     \u001b[0mc1\u001b[0m\u001b[1;33m=\u001b[0m\u001b[1;36m2\u001b[0m\u001b[1;33m^\u001b[0m\u001b[1;36m8\u001b[0m\u001b[1;33m\u001b[0m\u001b[1;33m\u001b[0m\u001b[0m\n\u001b[1;32m----> 6\u001b[1;33m     \u001b[0mtrain_time\u001b[0m\u001b[1;33m,\u001b[0m\u001b[0mNumber\u001b[0m\u001b[1;33m\u001b[0m\u001b[1;33m\u001b[0m\u001b[0m\n\u001b[0m",
      "\u001b[1;31mNameError\u001b[0m: name 'train_time' is not defined"
     ]
    }
   ],
   "source": [
    "for i in range(1,11):\n",
    "    name='scene15_channel_%d'%(i)\n",
    "    num_subnetwork_node=3;\n",
    "    dimensions=100;\n",
    "    c1=2^8\n",
    "    train_time,NumberofTrainingData=first_layer(Train,test,1,dimension,'sine','c1',2,num_subnetwork_node,name)\n",
    "    ktr,kte=featurecomb(ktr,kte,name,3,NumberofTrainingData)\n",
    "\n",
    "train=train[0]\n",
    "test=test[0]\n"
   ]
  },
  {
   "cell_type": "code",
   "execution_count": null,
   "metadata": {},
   "outputs": [],
   "source": [
    "c2=2^12\n",
    "train_time,train_accuracy11,test_accracy=last_layer(train,test,1,1,'sig',1,c2)\n",
    "test_accuracy"
   ]
  }
 ],
 "metadata": {
  "kernelspec": {
   "display_name": "Python 3",
   "language": "python",
   "name": "python3"
  },
  "language_info": {
   "codemirror_mode": {
    "name": "ipython",
    "version": 3
   },
   "file_extension": ".py",
   "mimetype": "text/x-python",
   "name": "python",
   "nbconvert_exporter": "python",
   "pygments_lexer": "ipython3",
   "version": "3.7.3"
  }
 },
 "nbformat": 4,
 "nbformat_minor": 2
}
